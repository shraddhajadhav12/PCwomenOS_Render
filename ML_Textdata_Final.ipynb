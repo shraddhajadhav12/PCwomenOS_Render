{
 "cells": [
  {
   "cell_type": "code",
   "execution_count": 1,
   "metadata": {
    "id": "wzy7uvHsFqFg"
   },
   "outputs": [],
   "source": [
    "import pandas as pd\n",
    "import numpy as np\n",
    "import seaborn as sns\n",
    "import matplotlib.pyplot as plt\n",
    "from sklearn.model_selection import train_test_split\n",
    "from sklearn.naive_bayes import GaussianNB\n",
    "from sklearn.linear_model import LogisticRegression\n",
    "from sklearn.metrics import confusion_matrix, accuracy_score,recall_score, roc_curve, auc\n",
    "from sklearn.neighbors import KNeighborsClassifier\n",
    "from sklearn.metrics import confusion_matrix, ConfusionMatrixDisplay\n",
    "from sklearn.ensemble import RandomForestClassifier\n",
    "from sklearn.tree import DecisionTreeClassifier\n",
    "from mlxtend.evaluate import confusion_matrix\n",
    "from sklearn import metrics"
   ]
  },
  {
   "cell_type": "code",
   "execution_count": 2,
   "metadata": {
    "colab": {
     "base_uri": "https://localhost:8080/"
    },
    "id": "skXVmiVXIq1a",
    "outputId": "52f41549-dada-448c-d653-c03733325bb0"
   },
   "outputs": [
    {
     "name": "stdout",
     "output_type": "stream",
     "text": [
      "Drive already mounted at /content/drive; to attempt to forcibly remount, call drive.mount(\"/content/drive\", force_remount=True).\n"
     ]
    }
   ],
   "source": [
    "from google.colab import drive\n",
    "drive.mount('/content/drive')"
   ]
  },
  {
   "cell_type": "code",
   "execution_count": 3,
   "metadata": {
    "colab": {
     "base_uri": "https://localhost:8080/",
     "height": 612
    },
    "id": "UL9NQcCcI7mF",
    "outputId": "874bffa0-bca5-46c3-ebb3-9343aa8bed37"
   },
   "outputs": [
    {
     "data": {
      "text/html": [
       "\n",
       "  <div id=\"df-63924da7-9ab1-41fb-9aa6-38c3b0d779fe\">\n",
       "    <div class=\"colab-df-container\">\n",
       "      <div>\n",
       "<style scoped>\n",
       "    .dataframe tbody tr th:only-of-type {\n",
       "        vertical-align: middle;\n",
       "    }\n",
       "\n",
       "    .dataframe tbody tr th {\n",
       "        vertical-align: top;\n",
       "    }\n",
       "\n",
       "    .dataframe thead th {\n",
       "        text-align: right;\n",
       "    }\n",
       "</style>\n",
       "<table border=\"1\" class=\"dataframe\">\n",
       "  <thead>\n",
       "    <tr style=\"text-align: right;\">\n",
       "      <th></th>\n",
       "      <th>Timestamp</th>\n",
       "      <th>1. Pick your age limit</th>\n",
       "      <th>2. Which work profile matches you?</th>\n",
       "      <th>3. What is your marital status?</th>\n",
       "      <th>4. How many kids do you have?</th>\n",
       "      <th>5. How would you describe your Body Physic?</th>\n",
       "      <th>6. Have you done any ultrasound scanning and what does your report say?</th>\n",
       "      <th>7. Do you notice any of these right before your period begins?</th>\n",
       "      <th>8. Are you experiencing irregular or late periods?</th>\n",
       "      <th>9. Are you experiencing painful periods?</th>\n",
       "      <th>...</th>\n",
       "      <th>16. Do you suffer from diabetes?</th>\n",
       "      <th>17. Do you suffer from hypothyroidism?</th>\n",
       "      <th>18. Do you experience excessive growth of facial and body hair?</th>\n",
       "      <th>19. Do you have acne/hyper-pigmentation?</th>\n",
       "      <th>20. Do you have the habit of consuming alcohol?</th>\n",
       "      <th>21. Do you have habit of smoking?</th>\n",
       "      <th>21. Are you under any stress?</th>\n",
       "      <th>22. Do you exercise regularly?</th>\n",
       "      <th>23. How would you describe your diet?</th>\n",
       "      <th>24. Are you diagnosed with PCOS/PCOD?</th>\n",
       "    </tr>\n",
       "  </thead>\n",
       "  <tbody>\n",
       "    <tr>\n",
       "      <th>0</th>\n",
       "      <td>8/12/2022 14:50:10</td>\n",
       "      <td>19-34</td>\n",
       "      <td>Student</td>\n",
       "      <td>Unmarried</td>\n",
       "      <td>0</td>\n",
       "      <td>I am at a healthy weight</td>\n",
       "      <td>No scanning was done</td>\n",
       "      <td>Constipation</td>\n",
       "      <td>No</td>\n",
       "      <td>Yes</td>\n",
       "      <td>...</td>\n",
       "      <td>No</td>\n",
       "      <td>No</td>\n",
       "      <td>No</td>\n",
       "      <td>No</td>\n",
       "      <td>No</td>\n",
       "      <td>No</td>\n",
       "      <td>No</td>\n",
       "      <td>Yes</td>\n",
       "      <td>Consist of packaged/processed food</td>\n",
       "      <td>I Don't know</td>\n",
       "    </tr>\n",
       "    <tr>\n",
       "      <th>1</th>\n",
       "      <td>8/12/2022 14:50:41</td>\n",
       "      <td>19-34</td>\n",
       "      <td>Student</td>\n",
       "      <td>Unmarried</td>\n",
       "      <td>0</td>\n",
       "      <td>I am at a healthy weight</td>\n",
       "      <td>No scanning was done</td>\n",
       "      <td>Mood Swings</td>\n",
       "      <td>No</td>\n",
       "      <td>No</td>\n",
       "      <td>...</td>\n",
       "      <td>No</td>\n",
       "      <td>No</td>\n",
       "      <td>No</td>\n",
       "      <td>Yes</td>\n",
       "      <td>No</td>\n",
       "      <td>No</td>\n",
       "      <td>No</td>\n",
       "      <td>No</td>\n",
       "      <td>Consist of packaged/processed food</td>\n",
       "      <td>I Don't know</td>\n",
       "    </tr>\n",
       "    <tr>\n",
       "      <th>2</th>\n",
       "      <td>8/12/2022 14:56:46</td>\n",
       "      <td>19-34</td>\n",
       "      <td>Employed</td>\n",
       "      <td>Unmarried</td>\n",
       "      <td>0</td>\n",
       "      <td>I am a bit overweight</td>\n",
       "      <td>Normal results</td>\n",
       "      <td>Mood Swings</td>\n",
       "      <td>No</td>\n",
       "      <td>Yes</td>\n",
       "      <td>...</td>\n",
       "      <td>No</td>\n",
       "      <td>No</td>\n",
       "      <td>No</td>\n",
       "      <td>Yes</td>\n",
       "      <td>No</td>\n",
       "      <td>No</td>\n",
       "      <td>No</td>\n",
       "      <td>Yes</td>\n",
       "      <td>Consist of high fiber and balance between carb...</td>\n",
       "      <td>No</td>\n",
       "    </tr>\n",
       "    <tr>\n",
       "      <th>3</th>\n",
       "      <td>8/12/2022 14:57:19</td>\n",
       "      <td>19-34</td>\n",
       "      <td>Student</td>\n",
       "      <td>Unmarried</td>\n",
       "      <td>0</td>\n",
       "      <td>I am a bit overweight</td>\n",
       "      <td>No scanning was done</td>\n",
       "      <td>Constipation</td>\n",
       "      <td>Yes</td>\n",
       "      <td>Yes</td>\n",
       "      <td>...</td>\n",
       "      <td>No</td>\n",
       "      <td>No</td>\n",
       "      <td>No</td>\n",
       "      <td>Yes</td>\n",
       "      <td>No</td>\n",
       "      <td>No</td>\n",
       "      <td>Yes</td>\n",
       "      <td>No</td>\n",
       "      <td>Consist of packaged/processed food</td>\n",
       "      <td>I Don't know</td>\n",
       "    </tr>\n",
       "    <tr>\n",
       "      <th>4</th>\n",
       "      <td>8/12/2022 15:02:16</td>\n",
       "      <td>19-34</td>\n",
       "      <td>Student</td>\n",
       "      <td>Unmarried</td>\n",
       "      <td>0</td>\n",
       "      <td>I am at a healthy weight</td>\n",
       "      <td>No scanning was done</td>\n",
       "      <td>Mood Swings</td>\n",
       "      <td>No</td>\n",
       "      <td>No</td>\n",
       "      <td>...</td>\n",
       "      <td>No</td>\n",
       "      <td>No</td>\n",
       "      <td>No</td>\n",
       "      <td>No</td>\n",
       "      <td>No</td>\n",
       "      <td>No</td>\n",
       "      <td>No</td>\n",
       "      <td>No</td>\n",
       "      <td>Consist of packaged/processed food</td>\n",
       "      <td>I Don't know</td>\n",
       "    </tr>\n",
       "  </tbody>\n",
       "</table>\n",
       "<p>5 rows × 26 columns</p>\n",
       "</div>\n",
       "      <button class=\"colab-df-convert\" onclick=\"convertToInteractive('df-63924da7-9ab1-41fb-9aa6-38c3b0d779fe')\"\n",
       "              title=\"Convert this dataframe to an interactive table.\"\n",
       "              style=\"display:none;\">\n",
       "        \n",
       "  <svg xmlns=\"http://www.w3.org/2000/svg\" height=\"24px\"viewBox=\"0 0 24 24\"\n",
       "       width=\"24px\">\n",
       "    <path d=\"M0 0h24v24H0V0z\" fill=\"none\"/>\n",
       "    <path d=\"M18.56 5.44l.94 2.06.94-2.06 2.06-.94-2.06-.94-.94-2.06-.94 2.06-2.06.94zm-11 1L8.5 8.5l.94-2.06 2.06-.94-2.06-.94L8.5 2.5l-.94 2.06-2.06.94zm10 10l.94 2.06.94-2.06 2.06-.94-2.06-.94-.94-2.06-.94 2.06-2.06.94z\"/><path d=\"M17.41 7.96l-1.37-1.37c-.4-.4-.92-.59-1.43-.59-.52 0-1.04.2-1.43.59L10.3 9.45l-7.72 7.72c-.78.78-.78 2.05 0 2.83L4 21.41c.39.39.9.59 1.41.59.51 0 1.02-.2 1.41-.59l7.78-7.78 2.81-2.81c.8-.78.8-2.07 0-2.86zM5.41 20L4 18.59l7.72-7.72 1.47 1.35L5.41 20z\"/>\n",
       "  </svg>\n",
       "      </button>\n",
       "      \n",
       "  <style>\n",
       "    .colab-df-container {\n",
       "      display:flex;\n",
       "      flex-wrap:wrap;\n",
       "      gap: 12px;\n",
       "    }\n",
       "\n",
       "    .colab-df-convert {\n",
       "      background-color: #E8F0FE;\n",
       "      border: none;\n",
       "      border-radius: 50%;\n",
       "      cursor: pointer;\n",
       "      display: none;\n",
       "      fill: #1967D2;\n",
       "      height: 32px;\n",
       "      padding: 0 0 0 0;\n",
       "      width: 32px;\n",
       "    }\n",
       "\n",
       "    .colab-df-convert:hover {\n",
       "      background-color: #E2EBFA;\n",
       "      box-shadow: 0px 1px 2px rgba(60, 64, 67, 0.3), 0px 1px 3px 1px rgba(60, 64, 67, 0.15);\n",
       "      fill: #174EA6;\n",
       "    }\n",
       "\n",
       "    [theme=dark] .colab-df-convert {\n",
       "      background-color: #3B4455;\n",
       "      fill: #D2E3FC;\n",
       "    }\n",
       "\n",
       "    [theme=dark] .colab-df-convert:hover {\n",
       "      background-color: #434B5C;\n",
       "      box-shadow: 0px 1px 3px 1px rgba(0, 0, 0, 0.15);\n",
       "      filter: drop-shadow(0px 1px 2px rgba(0, 0, 0, 0.3));\n",
       "      fill: #FFFFFF;\n",
       "    }\n",
       "  </style>\n",
       "\n",
       "      <script>\n",
       "        const buttonEl =\n",
       "          document.querySelector('#df-63924da7-9ab1-41fb-9aa6-38c3b0d779fe button.colab-df-convert');\n",
       "        buttonEl.style.display =\n",
       "          google.colab.kernel.accessAllowed ? 'block' : 'none';\n",
       "\n",
       "        async function convertToInteractive(key) {\n",
       "          const element = document.querySelector('#df-63924da7-9ab1-41fb-9aa6-38c3b0d779fe');\n",
       "          const dataTable =\n",
       "            await google.colab.kernel.invokeFunction('convertToInteractive',\n",
       "                                                     [key], {});\n",
       "          if (!dataTable) return;\n",
       "\n",
       "          const docLinkHtml = 'Like what you see? Visit the ' +\n",
       "            '<a target=\"_blank\" href=https://colab.research.google.com/notebooks/data_table.ipynb>data table notebook</a>'\n",
       "            + ' to learn more about interactive tables.';\n",
       "          element.innerHTML = '';\n",
       "          dataTable['output_type'] = 'display_data';\n",
       "          await google.colab.output.renderOutput(dataTable, element);\n",
       "          const docLink = document.createElement('div');\n",
       "          docLink.innerHTML = docLinkHtml;\n",
       "          element.appendChild(docLink);\n",
       "        }\n",
       "      </script>\n",
       "    </div>\n",
       "  </div>\n",
       "  "
      ],
      "text/plain": [
       "            Timestamp 1. Pick your age limit  \\\n",
       "0  8/12/2022 14:50:10                  19-34   \n",
       "1  8/12/2022 14:50:41                  19-34   \n",
       "2  8/12/2022 14:56:46                  19-34   \n",
       "3  8/12/2022 14:57:19                  19-34   \n",
       "4  8/12/2022 15:02:16                  19-34   \n",
       "\n",
       "  2. Which work profile matches you? 3. What is your marital status?  \\\n",
       "0                            Student                       Unmarried   \n",
       "1                            Student                       Unmarried   \n",
       "2                           Employed                       Unmarried   \n",
       "3                            Student                       Unmarried   \n",
       "4                            Student                       Unmarried   \n",
       "\n",
       "  4. How many kids do you have? 5. How would you describe your Body Physic?  \\\n",
       "0                             0                    I am at a healthy weight   \n",
       "1                             0                    I am at a healthy weight   \n",
       "2                             0                       I am a bit overweight   \n",
       "3                             0                       I am a bit overweight   \n",
       "4                             0                    I am at a healthy weight   \n",
       "\n",
       "  6. Have you done any ultrasound scanning and what does your report say?  \\\n",
       "0                               No scanning was done                        \n",
       "1                               No scanning was done                        \n",
       "2                                     Normal results                        \n",
       "3                               No scanning was done                        \n",
       "4                               No scanning was done                        \n",
       "\n",
       "  7. Do you notice any of these right before your period begins?  \\\n",
       "0                                       Constipation               \n",
       "1                                        Mood Swings               \n",
       "2                                        Mood Swings               \n",
       "3                                       Constipation               \n",
       "4                                        Mood Swings               \n",
       "\n",
       "  8. Are you experiencing irregular or late periods?  \\\n",
       "0                                                 No   \n",
       "1                                                 No   \n",
       "2                                                 No   \n",
       "3                                                Yes   \n",
       "4                                                 No   \n",
       "\n",
       "  9. Are you experiencing painful periods?  ...  \\\n",
       "0                                      Yes  ...   \n",
       "1                                       No  ...   \n",
       "2                                      Yes  ...   \n",
       "3                                      Yes  ...   \n",
       "4                                       No  ...   \n",
       "\n",
       "  16. Do you suffer from diabetes? 17. Do you suffer from hypothyroidism?  \\\n",
       "0                               No                                     No   \n",
       "1                               No                                     No   \n",
       "2                               No                                     No   \n",
       "3                               No                                     No   \n",
       "4                               No                                     No   \n",
       "\n",
       "  18. Do you experience excessive growth of facial and body hair?  \\\n",
       "0                                                 No                \n",
       "1                                                 No                \n",
       "2                                                 No                \n",
       "3                                                 No                \n",
       "4                                                 No                \n",
       "\n",
       "  19. Do you have acne/hyper-pigmentation?  \\\n",
       "0                                       No   \n",
       "1                                      Yes   \n",
       "2                                      Yes   \n",
       "3                                      Yes   \n",
       "4                                       No   \n",
       "\n",
       "  20. Do you have the habit of consuming alcohol?  \\\n",
       "0                                              No   \n",
       "1                                              No   \n",
       "2                                              No   \n",
       "3                                              No   \n",
       "4                                              No   \n",
       "\n",
       "  21. Do you have habit of smoking? 21. Are you under any stress?  \\\n",
       "0                                No                            No   \n",
       "1                                No                            No   \n",
       "2                                No                            No   \n",
       "3                                No                           Yes   \n",
       "4                                No                            No   \n",
       "\n",
       "  22. Do you exercise regularly?  \\\n",
       "0                            Yes   \n",
       "1                             No   \n",
       "2                            Yes   \n",
       "3                             No   \n",
       "4                             No   \n",
       "\n",
       "               23. How would you describe your diet?  \\\n",
       "0                 Consist of packaged/processed food   \n",
       "1                 Consist of packaged/processed food   \n",
       "2  Consist of high fiber and balance between carb...   \n",
       "3                 Consist of packaged/processed food   \n",
       "4                 Consist of packaged/processed food   \n",
       "\n",
       "  24. Are you diagnosed with PCOS/PCOD?  \n",
       "0                          I Don't know  \n",
       "1                          I Don't know  \n",
       "2                                    No  \n",
       "3                          I Don't know  \n",
       "4                          I Don't know  \n",
       "\n",
       "[5 rows x 26 columns]"
      ]
     },
     "execution_count": 3,
     "metadata": {},
     "output_type": "execute_result"
    }
   ],
   "source": [
    "original_data = pd.read_csv(\"/content/drive/MyDrive/PCOS_data - Form Responses 1.csv\")\n",
    "original_data.head()"
   ]
  },
  {
   "cell_type": "code",
   "execution_count": 4,
   "metadata": {
    "colab": {
     "base_uri": "https://localhost:8080/"
    },
    "id": "0S25wcKLJTnT",
    "outputId": "bc00ad40-365d-47ec-fe7b-ac3d12783dd3"
   },
   "outputs": [
    {
     "data": {
      "text/plain": [
       "(166, 26)"
      ]
     },
     "execution_count": 4,
     "metadata": {},
     "output_type": "execute_result"
    }
   ],
   "source": [
    "original_data.shape"
   ]
  },
  {
   "cell_type": "code",
   "execution_count": 5,
   "metadata": {
    "colab": {
     "base_uri": "https://localhost:8080/"
    },
    "id": "aC-Ohhx8IodM",
    "outputId": "d8e246c6-9ba6-439c-da44-04a334fee914"
   },
   "outputs": [
    {
     "name": "stdout",
     "output_type": "stream",
     "text": [
      "<class 'pandas.core.frame.DataFrame'>\n",
      "RangeIndex: 166 entries, 0 to 165\n",
      "Data columns (total 26 columns):\n",
      " #   Column                                                                   Non-Null Count  Dtype \n",
      "---  ------                                                                   --------------  ----- \n",
      " 0   Timestamp                                                                166 non-null    object\n",
      " 1   1. Pick your age limit                                                   166 non-null    object\n",
      " 2   2. Which work profile matches you?                                       166 non-null    object\n",
      " 3   3. What is your marital status?                                          166 non-null    object\n",
      " 4   4. How many kids do you have?                                            166 non-null    object\n",
      " 5   5. How would you describe your Body Physic?                              166 non-null    object\n",
      " 6   6. Have you done any ultrasound scanning and what does your report say?  166 non-null    object\n",
      " 7   7. Do you notice any of these right before your period begins?           166 non-null    object\n",
      " 8   8. Are you experiencing irregular or late periods?                       166 non-null    object\n",
      " 9   9. Are you experiencing painful periods?                                 166 non-null    object\n",
      " 10  10. Are you experiencing excessive bleeding?                             166 non-null    object\n",
      " 11  11. How often do you get your periods?                                   166 non-null    object\n",
      " 12  12. How long does your period last?                                      166 non-null    object\n",
      " 13  13. How would you like to rate your period pains?                        166 non-null    object\n",
      " 14  14. Do you notice any clots during your periods?                         166 non-null    object\n",
      " 15  15. Is/was your mother diagnosed with PCOS/PCOD?                         166 non-null    object\n",
      " 16  16. Do you suffer from diabetes?                                         166 non-null    object\n",
      " 17  17. Do you suffer from hypothyroidism?                                   166 non-null    object\n",
      " 18  18. Do you experience excessive growth of facial and body hair?          166 non-null    object\n",
      " 19  19. Do you have acne/hyper-pigmentation?                                 166 non-null    object\n",
      " 20  20. Do you have the habit of consuming alcohol?                          166 non-null    object\n",
      " 21  21. Do you have habit of smoking?                                        166 non-null    object\n",
      " 22  21. Are you under any stress?                                            166 non-null    object\n",
      " 23  22. Do you exercise regularly?                                           166 non-null    object\n",
      " 24  23. How would you describe your diet?                                    166 non-null    object\n",
      " 25  24. Are you diagnosed with PCOS/PCOD?                                    166 non-null    object\n",
      "dtypes: object(26)\n",
      "memory usage: 33.8+ KB\n"
     ]
    }
   ],
   "source": [
    "original_data.info()"
   ]
  },
  {
   "cell_type": "code",
   "execution_count": 6,
   "metadata": {
    "id": "UEAgJmcpJSSK"
   },
   "outputs": [],
   "source": [
    "renamed={'1. Pick your age limit': 'age limit', \n",
    "                       '2. Which work profile matches you?': 'Profession', \n",
    "                       '3. What is your marital status?':'marital status', \n",
    "                       '4. How many kids do you have?':'no of kids', \n",
    "                       '5. How would you describe your Body Physic?':'body type', \n",
    "                       '6. Have you done any ultrasound scanning and what does your report say?':'ultrasound status', \n",
    "                       '7. Do you notice any of these right before your period begins?':'PMS', \n",
    "                       '8. Are you experiencing irregular or late periods?':'regular periods', \n",
    "                       '9. Are you experiencing painful periods?':'painful periods', \n",
    "                       '10. Are you experiencing excessive bleeding?':'excessive bleeding',\n",
    "                       '11. How often do you get your periods?':'period cycle',\n",
    "                       '12. How long does your period last?':'period length',\n",
    "                       '13. How would you like to rate your period pains?':'period pain scale',\n",
    "                       '14. Do you notice any clots during your periods?':'period clots',\n",
    "                       '15. Is/was your mother diagnosed with PCOS/PCOD? ':'genetic PCOS',\n",
    "                       '16. Do you suffer from diabetes?':'diabetes',\n",
    "                       '17. Do you suffer from hypothyroidism?':'hypothyroid',\n",
    "                       '18. Do you experience excessive growth of facial and body hair?':'excessive hair growth',\n",
    "                       '19. Do you have acne/hyper-pigmentation?':'acne',\n",
    "                       '20. Do you have the habit of consuming alcohol?':'alcohol habit',\n",
    "                       '21. Do you have habit of smoking?': 'smoking habit',\n",
    "                       '21. Are you under any stress?':'stress',\n",
    "                       '22. Do you exercise regularly?':'regular excercise',\n",
    "                       '23. How would you describe your diet?':'diet',\n",
    "                       '24. Are you diagnosed with PCOS/PCOD?':'diagnosis',\n",
    "                       }"
   ]
  },
  {
   "cell_type": "code",
   "execution_count": 7,
   "metadata": {
    "colab": {
     "base_uri": "https://localhost:8080/",
     "height": 507
    },
    "id": "HyUPv13pJcTq",
    "outputId": "8a5d75e4-59b6-4fe9-d6d8-9f189a9eb133"
   },
   "outputs": [
    {
     "data": {
      "text/html": [
       "\n",
       "  <div id=\"df-dea0a5ff-9c25-4e50-bd06-d7eb3ed88ac3\">\n",
       "    <div class=\"colab-df-container\">\n",
       "      <div>\n",
       "<style scoped>\n",
       "    .dataframe tbody tr th:only-of-type {\n",
       "        vertical-align: middle;\n",
       "    }\n",
       "\n",
       "    .dataframe tbody tr th {\n",
       "        vertical-align: top;\n",
       "    }\n",
       "\n",
       "    .dataframe thead th {\n",
       "        text-align: right;\n",
       "    }\n",
       "</style>\n",
       "<table border=\"1\" class=\"dataframe\">\n",
       "  <thead>\n",
       "    <tr style=\"text-align: right;\">\n",
       "      <th></th>\n",
       "      <th>Timestamp</th>\n",
       "      <th>age limit</th>\n",
       "      <th>Profession</th>\n",
       "      <th>marital status</th>\n",
       "      <th>no of kids</th>\n",
       "      <th>body type</th>\n",
       "      <th>ultrasound status</th>\n",
       "      <th>PMS</th>\n",
       "      <th>regular periods</th>\n",
       "      <th>painful periods</th>\n",
       "      <th>...</th>\n",
       "      <th>diabetes</th>\n",
       "      <th>hypothyroid</th>\n",
       "      <th>excessive hair growth</th>\n",
       "      <th>acne</th>\n",
       "      <th>alcohol habit</th>\n",
       "      <th>smoking habit</th>\n",
       "      <th>stress</th>\n",
       "      <th>regular excercise</th>\n",
       "      <th>diet</th>\n",
       "      <th>diagnosis</th>\n",
       "    </tr>\n",
       "  </thead>\n",
       "  <tbody>\n",
       "    <tr>\n",
       "      <th>0</th>\n",
       "      <td>8/12/2022 14:50:10</td>\n",
       "      <td>19-34</td>\n",
       "      <td>Student</td>\n",
       "      <td>Unmarried</td>\n",
       "      <td>0</td>\n",
       "      <td>I am at a healthy weight</td>\n",
       "      <td>No scanning was done</td>\n",
       "      <td>Constipation</td>\n",
       "      <td>No</td>\n",
       "      <td>Yes</td>\n",
       "      <td>...</td>\n",
       "      <td>No</td>\n",
       "      <td>No</td>\n",
       "      <td>No</td>\n",
       "      <td>No</td>\n",
       "      <td>No</td>\n",
       "      <td>No</td>\n",
       "      <td>No</td>\n",
       "      <td>Yes</td>\n",
       "      <td>Consist of packaged/processed food</td>\n",
       "      <td>I Don't know</td>\n",
       "    </tr>\n",
       "    <tr>\n",
       "      <th>1</th>\n",
       "      <td>8/12/2022 14:50:41</td>\n",
       "      <td>19-34</td>\n",
       "      <td>Student</td>\n",
       "      <td>Unmarried</td>\n",
       "      <td>0</td>\n",
       "      <td>I am at a healthy weight</td>\n",
       "      <td>No scanning was done</td>\n",
       "      <td>Mood Swings</td>\n",
       "      <td>No</td>\n",
       "      <td>No</td>\n",
       "      <td>...</td>\n",
       "      <td>No</td>\n",
       "      <td>No</td>\n",
       "      <td>No</td>\n",
       "      <td>Yes</td>\n",
       "      <td>No</td>\n",
       "      <td>No</td>\n",
       "      <td>No</td>\n",
       "      <td>No</td>\n",
       "      <td>Consist of packaged/processed food</td>\n",
       "      <td>I Don't know</td>\n",
       "    </tr>\n",
       "    <tr>\n",
       "      <th>2</th>\n",
       "      <td>8/12/2022 14:56:46</td>\n",
       "      <td>19-34</td>\n",
       "      <td>Employed</td>\n",
       "      <td>Unmarried</td>\n",
       "      <td>0</td>\n",
       "      <td>I am a bit overweight</td>\n",
       "      <td>Normal results</td>\n",
       "      <td>Mood Swings</td>\n",
       "      <td>No</td>\n",
       "      <td>Yes</td>\n",
       "      <td>...</td>\n",
       "      <td>No</td>\n",
       "      <td>No</td>\n",
       "      <td>No</td>\n",
       "      <td>Yes</td>\n",
       "      <td>No</td>\n",
       "      <td>No</td>\n",
       "      <td>No</td>\n",
       "      <td>Yes</td>\n",
       "      <td>Consist of high fiber and balance between carb...</td>\n",
       "      <td>No</td>\n",
       "    </tr>\n",
       "    <tr>\n",
       "      <th>3</th>\n",
       "      <td>8/12/2022 14:57:19</td>\n",
       "      <td>19-34</td>\n",
       "      <td>Student</td>\n",
       "      <td>Unmarried</td>\n",
       "      <td>0</td>\n",
       "      <td>I am a bit overweight</td>\n",
       "      <td>No scanning was done</td>\n",
       "      <td>Constipation</td>\n",
       "      <td>Yes</td>\n",
       "      <td>Yes</td>\n",
       "      <td>...</td>\n",
       "      <td>No</td>\n",
       "      <td>No</td>\n",
       "      <td>No</td>\n",
       "      <td>Yes</td>\n",
       "      <td>No</td>\n",
       "      <td>No</td>\n",
       "      <td>Yes</td>\n",
       "      <td>No</td>\n",
       "      <td>Consist of packaged/processed food</td>\n",
       "      <td>I Don't know</td>\n",
       "    </tr>\n",
       "    <tr>\n",
       "      <th>4</th>\n",
       "      <td>8/12/2022 15:02:16</td>\n",
       "      <td>19-34</td>\n",
       "      <td>Student</td>\n",
       "      <td>Unmarried</td>\n",
       "      <td>0</td>\n",
       "      <td>I am at a healthy weight</td>\n",
       "      <td>No scanning was done</td>\n",
       "      <td>Mood Swings</td>\n",
       "      <td>No</td>\n",
       "      <td>No</td>\n",
       "      <td>...</td>\n",
       "      <td>No</td>\n",
       "      <td>No</td>\n",
       "      <td>No</td>\n",
       "      <td>No</td>\n",
       "      <td>No</td>\n",
       "      <td>No</td>\n",
       "      <td>No</td>\n",
       "      <td>No</td>\n",
       "      <td>Consist of packaged/processed food</td>\n",
       "      <td>I Don't know</td>\n",
       "    </tr>\n",
       "  </tbody>\n",
       "</table>\n",
       "<p>5 rows × 26 columns</p>\n",
       "</div>\n",
       "      <button class=\"colab-df-convert\" onclick=\"convertToInteractive('df-dea0a5ff-9c25-4e50-bd06-d7eb3ed88ac3')\"\n",
       "              title=\"Convert this dataframe to an interactive table.\"\n",
       "              style=\"display:none;\">\n",
       "        \n",
       "  <svg xmlns=\"http://www.w3.org/2000/svg\" height=\"24px\"viewBox=\"0 0 24 24\"\n",
       "       width=\"24px\">\n",
       "    <path d=\"M0 0h24v24H0V0z\" fill=\"none\"/>\n",
       "    <path d=\"M18.56 5.44l.94 2.06.94-2.06 2.06-.94-2.06-.94-.94-2.06-.94 2.06-2.06.94zm-11 1L8.5 8.5l.94-2.06 2.06-.94-2.06-.94L8.5 2.5l-.94 2.06-2.06.94zm10 10l.94 2.06.94-2.06 2.06-.94-2.06-.94-.94-2.06-.94 2.06-2.06.94z\"/><path d=\"M17.41 7.96l-1.37-1.37c-.4-.4-.92-.59-1.43-.59-.52 0-1.04.2-1.43.59L10.3 9.45l-7.72 7.72c-.78.78-.78 2.05 0 2.83L4 21.41c.39.39.9.59 1.41.59.51 0 1.02-.2 1.41-.59l7.78-7.78 2.81-2.81c.8-.78.8-2.07 0-2.86zM5.41 20L4 18.59l7.72-7.72 1.47 1.35L5.41 20z\"/>\n",
       "  </svg>\n",
       "      </button>\n",
       "      \n",
       "  <style>\n",
       "    .colab-df-container {\n",
       "      display:flex;\n",
       "      flex-wrap:wrap;\n",
       "      gap: 12px;\n",
       "    }\n",
       "\n",
       "    .colab-df-convert {\n",
       "      background-color: #E8F0FE;\n",
       "      border: none;\n",
       "      border-radius: 50%;\n",
       "      cursor: pointer;\n",
       "      display: none;\n",
       "      fill: #1967D2;\n",
       "      height: 32px;\n",
       "      padding: 0 0 0 0;\n",
       "      width: 32px;\n",
       "    }\n",
       "\n",
       "    .colab-df-convert:hover {\n",
       "      background-color: #E2EBFA;\n",
       "      box-shadow: 0px 1px 2px rgba(60, 64, 67, 0.3), 0px 1px 3px 1px rgba(60, 64, 67, 0.15);\n",
       "      fill: #174EA6;\n",
       "    }\n",
       "\n",
       "    [theme=dark] .colab-df-convert {\n",
       "      background-color: #3B4455;\n",
       "      fill: #D2E3FC;\n",
       "    }\n",
       "\n",
       "    [theme=dark] .colab-df-convert:hover {\n",
       "      background-color: #434B5C;\n",
       "      box-shadow: 0px 1px 3px 1px rgba(0, 0, 0, 0.15);\n",
       "      filter: drop-shadow(0px 1px 2px rgba(0, 0, 0, 0.3));\n",
       "      fill: #FFFFFF;\n",
       "    }\n",
       "  </style>\n",
       "\n",
       "      <script>\n",
       "        const buttonEl =\n",
       "          document.querySelector('#df-dea0a5ff-9c25-4e50-bd06-d7eb3ed88ac3 button.colab-df-convert');\n",
       "        buttonEl.style.display =\n",
       "          google.colab.kernel.accessAllowed ? 'block' : 'none';\n",
       "\n",
       "        async function convertToInteractive(key) {\n",
       "          const element = document.querySelector('#df-dea0a5ff-9c25-4e50-bd06-d7eb3ed88ac3');\n",
       "          const dataTable =\n",
       "            await google.colab.kernel.invokeFunction('convertToInteractive',\n",
       "                                                     [key], {});\n",
       "          if (!dataTable) return;\n",
       "\n",
       "          const docLinkHtml = 'Like what you see? Visit the ' +\n",
       "            '<a target=\"_blank\" href=https://colab.research.google.com/notebooks/data_table.ipynb>data table notebook</a>'\n",
       "            + ' to learn more about interactive tables.';\n",
       "          element.innerHTML = '';\n",
       "          dataTable['output_type'] = 'display_data';\n",
       "          await google.colab.output.renderOutput(dataTable, element);\n",
       "          const docLink = document.createElement('div');\n",
       "          docLink.innerHTML = docLinkHtml;\n",
       "          element.appendChild(docLink);\n",
       "        }\n",
       "      </script>\n",
       "    </div>\n",
       "  </div>\n",
       "  "
      ],
      "text/plain": [
       "            Timestamp age limit Profession marital status no of kids  \\\n",
       "0  8/12/2022 14:50:10     19-34    Student      Unmarried          0   \n",
       "1  8/12/2022 14:50:41     19-34    Student      Unmarried          0   \n",
       "2  8/12/2022 14:56:46     19-34   Employed      Unmarried          0   \n",
       "3  8/12/2022 14:57:19     19-34    Student      Unmarried          0   \n",
       "4  8/12/2022 15:02:16     19-34    Student      Unmarried          0   \n",
       "\n",
       "                  body type     ultrasound status           PMS  \\\n",
       "0  I am at a healthy weight  No scanning was done  Constipation   \n",
       "1  I am at a healthy weight  No scanning was done   Mood Swings   \n",
       "2     I am a bit overweight        Normal results   Mood Swings   \n",
       "3     I am a bit overweight  No scanning was done  Constipation   \n",
       "4  I am at a healthy weight  No scanning was done   Mood Swings   \n",
       "\n",
       "  regular periods painful periods  ... diabetes hypothyroid  \\\n",
       "0              No             Yes  ...       No          No   \n",
       "1              No              No  ...       No          No   \n",
       "2              No             Yes  ...       No          No   \n",
       "3             Yes             Yes  ...       No          No   \n",
       "4              No              No  ...       No          No   \n",
       "\n",
       "  excessive hair growth acne alcohol habit smoking habit stress  \\\n",
       "0                    No   No            No            No     No   \n",
       "1                    No  Yes            No            No     No   \n",
       "2                    No  Yes            No            No     No   \n",
       "3                    No  Yes            No            No    Yes   \n",
       "4                    No   No            No            No     No   \n",
       "\n",
       "  regular excercise                                               diet  \\\n",
       "0               Yes                 Consist of packaged/processed food   \n",
       "1                No                 Consist of packaged/processed food   \n",
       "2               Yes  Consist of high fiber and balance between carb...   \n",
       "3                No                 Consist of packaged/processed food   \n",
       "4                No                 Consist of packaged/processed food   \n",
       "\n",
       "      diagnosis  \n",
       "0  I Don't know  \n",
       "1  I Don't know  \n",
       "2            No  \n",
       "3  I Don't know  \n",
       "4  I Don't know  \n",
       "\n",
       "[5 rows x 26 columns]"
      ]
     },
     "execution_count": 7,
     "metadata": {},
     "output_type": "execute_result"
    }
   ],
   "source": [
    "original_data.rename(renamed, axis='columns', inplace=True)\n",
    "original_data.head()"
   ]
  },
  {
   "cell_type": "code",
   "execution_count": 8,
   "metadata": {
    "colab": {
     "base_uri": "https://localhost:8080/"
    },
    "id": "F2YN5l_BJlwn",
    "outputId": "6885dcfd-1d50-4564-801d-c2a19d9971b5"
   },
   "outputs": [
    {
     "data": {
      "text/plain": [
       "(166, 24)"
      ]
     },
     "execution_count": 8,
     "metadata": {},
     "output_type": "execute_result"
    }
   ],
   "source": [
    "original_data = original_data.drop([\"Timestamp\", \"ultrasound status\"],axis=1)\n",
    "original_data.shape"
   ]
  },
  {
   "cell_type": "code",
   "execution_count": 9,
   "metadata": {
    "colab": {
     "base_uri": "https://localhost:8080/"
    },
    "id": "XattkycYJ0oP",
    "outputId": "29640dac-2722-409f-d40a-211e5dfd6d81"
   },
   "outputs": [
    {
     "data": {
      "text/plain": [
       "age limit                0\n",
       "Profession               0\n",
       "marital status           0\n",
       "no of kids               0\n",
       "body type                0\n",
       "PMS                      0\n",
       "regular periods          0\n",
       "painful periods          0\n",
       "excessive bleeding       0\n",
       "period cycle             0\n",
       "period length            0\n",
       "period pain scale        0\n",
       "period clots             0\n",
       "genetic PCOS             0\n",
       "diabetes                 0\n",
       "hypothyroid              0\n",
       "excessive hair growth    0\n",
       "acne                     0\n",
       "alcohol habit            0\n",
       "smoking habit            0\n",
       "stress                   0\n",
       "regular excercise        0\n",
       "diet                     0\n",
       "diagnosis                0\n",
       "dtype: int64"
      ]
     },
     "execution_count": 9,
     "metadata": {},
     "output_type": "execute_result"
    }
   ],
   "source": [
    "original_data.isna().sum()"
   ]
  },
  {
   "cell_type": "code",
   "execution_count": 10,
   "metadata": {
    "id": "yphVND42K7J-"
   },
   "outputs": [],
   "source": [
    "unlabeled_data = labeled_data = original_data"
   ]
  },
  {
   "cell_type": "markdown",
   "metadata": {
    "id": "Scbw_T_pRC_R"
   },
   "source": [
    "#**Creating unlabeled dataset**"
   ]
  },
  {
   "cell_type": "code",
   "execution_count": 11,
   "metadata": {
    "colab": {
     "base_uri": "https://localhost:8080/"
    },
    "id": "op-IY7HTLOhc",
    "outputId": "71216f5b-ecf7-4fbb-ac1b-0e80d89648a9"
   },
   "outputs": [
    {
     "name": "stdout",
     "output_type": "stream",
     "text": [
      "Shape of unlabeled data:  (40, 24)\n"
     ]
    }
   ],
   "source": [
    "# Creating separate data which has diagnosis values equal to 'I Don't Know' \n",
    "unlabeled_data = unlabeled_data.loc[unlabeled_data['diagnosis'] == \"I Don\\'t know\"]\n",
    "print(\"Shape of unlabeled data: \", unlabeled_data.shape)"
   ]
  },
  {
   "cell_type": "code",
   "execution_count": 12,
   "metadata": {
    "colab": {
     "base_uri": "https://localhost:8080/",
     "height": 542
    },
    "id": "1F8OUthYQzd_",
    "outputId": "e1cf8306-84b4-48af-c2da-5ce7953bf621"
   },
   "outputs": [
    {
     "data": {
      "text/html": [
       "\n",
       "  <div id=\"df-0d5bf3a4-03e5-4e54-b35f-84946d7d426a\">\n",
       "    <div class=\"colab-df-container\">\n",
       "      <div>\n",
       "<style scoped>\n",
       "    .dataframe tbody tr th:only-of-type {\n",
       "        vertical-align: middle;\n",
       "    }\n",
       "\n",
       "    .dataframe tbody tr th {\n",
       "        vertical-align: top;\n",
       "    }\n",
       "\n",
       "    .dataframe thead th {\n",
       "        text-align: right;\n",
       "    }\n",
       "</style>\n",
       "<table border=\"1\" class=\"dataframe\">\n",
       "  <thead>\n",
       "    <tr style=\"text-align: right;\">\n",
       "      <th></th>\n",
       "      <th>age limit</th>\n",
       "      <th>Profession</th>\n",
       "      <th>marital status</th>\n",
       "      <th>no of kids</th>\n",
       "      <th>body type</th>\n",
       "      <th>PMS</th>\n",
       "      <th>regular periods</th>\n",
       "      <th>painful periods</th>\n",
       "      <th>excessive bleeding</th>\n",
       "      <th>period cycle</th>\n",
       "      <th>...</th>\n",
       "      <th>diabetes</th>\n",
       "      <th>hypothyroid</th>\n",
       "      <th>excessive hair growth</th>\n",
       "      <th>acne</th>\n",
       "      <th>alcohol habit</th>\n",
       "      <th>smoking habit</th>\n",
       "      <th>stress</th>\n",
       "      <th>regular excercise</th>\n",
       "      <th>diet</th>\n",
       "      <th>diagnosis</th>\n",
       "    </tr>\n",
       "  </thead>\n",
       "  <tbody>\n",
       "    <tr>\n",
       "      <th>0</th>\n",
       "      <td>19-34</td>\n",
       "      <td>Student</td>\n",
       "      <td>Unmarried</td>\n",
       "      <td>0</td>\n",
       "      <td>I am at a healthy weight</td>\n",
       "      <td>Constipation</td>\n",
       "      <td>No</td>\n",
       "      <td>Yes</td>\n",
       "      <td>No</td>\n",
       "      <td>21 - 40 days</td>\n",
       "      <td>...</td>\n",
       "      <td>No</td>\n",
       "      <td>No</td>\n",
       "      <td>No</td>\n",
       "      <td>No</td>\n",
       "      <td>No</td>\n",
       "      <td>No</td>\n",
       "      <td>No</td>\n",
       "      <td>Yes</td>\n",
       "      <td>Consist of packaged/processed food</td>\n",
       "      <td>I Don't know</td>\n",
       "    </tr>\n",
       "    <tr>\n",
       "      <th>1</th>\n",
       "      <td>19-34</td>\n",
       "      <td>Student</td>\n",
       "      <td>Unmarried</td>\n",
       "      <td>0</td>\n",
       "      <td>I am at a healthy weight</td>\n",
       "      <td>Mood Swings</td>\n",
       "      <td>No</td>\n",
       "      <td>No</td>\n",
       "      <td>No</td>\n",
       "      <td>21 - 40 days</td>\n",
       "      <td>...</td>\n",
       "      <td>No</td>\n",
       "      <td>No</td>\n",
       "      <td>No</td>\n",
       "      <td>Yes</td>\n",
       "      <td>No</td>\n",
       "      <td>No</td>\n",
       "      <td>No</td>\n",
       "      <td>No</td>\n",
       "      <td>Consist of packaged/processed food</td>\n",
       "      <td>I Don't know</td>\n",
       "    </tr>\n",
       "    <tr>\n",
       "      <th>3</th>\n",
       "      <td>19-34</td>\n",
       "      <td>Student</td>\n",
       "      <td>Unmarried</td>\n",
       "      <td>0</td>\n",
       "      <td>I am a bit overweight</td>\n",
       "      <td>Constipation</td>\n",
       "      <td>Yes</td>\n",
       "      <td>Yes</td>\n",
       "      <td>Yes</td>\n",
       "      <td>Less than 21 days</td>\n",
       "      <td>...</td>\n",
       "      <td>No</td>\n",
       "      <td>No</td>\n",
       "      <td>No</td>\n",
       "      <td>Yes</td>\n",
       "      <td>No</td>\n",
       "      <td>No</td>\n",
       "      <td>Yes</td>\n",
       "      <td>No</td>\n",
       "      <td>Consist of packaged/processed food</td>\n",
       "      <td>I Don't know</td>\n",
       "    </tr>\n",
       "    <tr>\n",
       "      <th>4</th>\n",
       "      <td>19-34</td>\n",
       "      <td>Student</td>\n",
       "      <td>Unmarried</td>\n",
       "      <td>0</td>\n",
       "      <td>I am at a healthy weight</td>\n",
       "      <td>Mood Swings</td>\n",
       "      <td>No</td>\n",
       "      <td>No</td>\n",
       "      <td>Yes</td>\n",
       "      <td>Less than 21 days</td>\n",
       "      <td>...</td>\n",
       "      <td>No</td>\n",
       "      <td>No</td>\n",
       "      <td>No</td>\n",
       "      <td>No</td>\n",
       "      <td>No</td>\n",
       "      <td>No</td>\n",
       "      <td>No</td>\n",
       "      <td>No</td>\n",
       "      <td>Consist of packaged/processed food</td>\n",
       "      <td>I Don't know</td>\n",
       "    </tr>\n",
       "    <tr>\n",
       "      <th>6</th>\n",
       "      <td>35 - 50</td>\n",
       "      <td>Unemployed</td>\n",
       "      <td>Unmarried</td>\n",
       "      <td>2</td>\n",
       "      <td>I am at a healthy weight</td>\n",
       "      <td>None</td>\n",
       "      <td>No</td>\n",
       "      <td>Yes</td>\n",
       "      <td>No</td>\n",
       "      <td>21 - 40 days</td>\n",
       "      <td>...</td>\n",
       "      <td>No</td>\n",
       "      <td>No</td>\n",
       "      <td>No</td>\n",
       "      <td>Yes</td>\n",
       "      <td>No</td>\n",
       "      <td>No</td>\n",
       "      <td>No</td>\n",
       "      <td>No</td>\n",
       "      <td>Consist of high fiber and balance between carb...</td>\n",
       "      <td>I Don't know</td>\n",
       "    </tr>\n",
       "  </tbody>\n",
       "</table>\n",
       "<p>5 rows × 24 columns</p>\n",
       "</div>\n",
       "      <button class=\"colab-df-convert\" onclick=\"convertToInteractive('df-0d5bf3a4-03e5-4e54-b35f-84946d7d426a')\"\n",
       "              title=\"Convert this dataframe to an interactive table.\"\n",
       "              style=\"display:none;\">\n",
       "        \n",
       "  <svg xmlns=\"http://www.w3.org/2000/svg\" height=\"24px\"viewBox=\"0 0 24 24\"\n",
       "       width=\"24px\">\n",
       "    <path d=\"M0 0h24v24H0V0z\" fill=\"none\"/>\n",
       "    <path d=\"M18.56 5.44l.94 2.06.94-2.06 2.06-.94-2.06-.94-.94-2.06-.94 2.06-2.06.94zm-11 1L8.5 8.5l.94-2.06 2.06-.94-2.06-.94L8.5 2.5l-.94 2.06-2.06.94zm10 10l.94 2.06.94-2.06 2.06-.94-2.06-.94-.94-2.06-.94 2.06-2.06.94z\"/><path d=\"M17.41 7.96l-1.37-1.37c-.4-.4-.92-.59-1.43-.59-.52 0-1.04.2-1.43.59L10.3 9.45l-7.72 7.72c-.78.78-.78 2.05 0 2.83L4 21.41c.39.39.9.59 1.41.59.51 0 1.02-.2 1.41-.59l7.78-7.78 2.81-2.81c.8-.78.8-2.07 0-2.86zM5.41 20L4 18.59l7.72-7.72 1.47 1.35L5.41 20z\"/>\n",
       "  </svg>\n",
       "      </button>\n",
       "      \n",
       "  <style>\n",
       "    .colab-df-container {\n",
       "      display:flex;\n",
       "      flex-wrap:wrap;\n",
       "      gap: 12px;\n",
       "    }\n",
       "\n",
       "    .colab-df-convert {\n",
       "      background-color: #E8F0FE;\n",
       "      border: none;\n",
       "      border-radius: 50%;\n",
       "      cursor: pointer;\n",
       "      display: none;\n",
       "      fill: #1967D2;\n",
       "      height: 32px;\n",
       "      padding: 0 0 0 0;\n",
       "      width: 32px;\n",
       "    }\n",
       "\n",
       "    .colab-df-convert:hover {\n",
       "      background-color: #E2EBFA;\n",
       "      box-shadow: 0px 1px 2px rgba(60, 64, 67, 0.3), 0px 1px 3px 1px rgba(60, 64, 67, 0.15);\n",
       "      fill: #174EA6;\n",
       "    }\n",
       "\n",
       "    [theme=dark] .colab-df-convert {\n",
       "      background-color: #3B4455;\n",
       "      fill: #D2E3FC;\n",
       "    }\n",
       "\n",
       "    [theme=dark] .colab-df-convert:hover {\n",
       "      background-color: #434B5C;\n",
       "      box-shadow: 0px 1px 3px 1px rgba(0, 0, 0, 0.15);\n",
       "      filter: drop-shadow(0px 1px 2px rgba(0, 0, 0, 0.3));\n",
       "      fill: #FFFFFF;\n",
       "    }\n",
       "  </style>\n",
       "\n",
       "      <script>\n",
       "        const buttonEl =\n",
       "          document.querySelector('#df-0d5bf3a4-03e5-4e54-b35f-84946d7d426a button.colab-df-convert');\n",
       "        buttonEl.style.display =\n",
       "          google.colab.kernel.accessAllowed ? 'block' : 'none';\n",
       "\n",
       "        async function convertToInteractive(key) {\n",
       "          const element = document.querySelector('#df-0d5bf3a4-03e5-4e54-b35f-84946d7d426a');\n",
       "          const dataTable =\n",
       "            await google.colab.kernel.invokeFunction('convertToInteractive',\n",
       "                                                     [key], {});\n",
       "          if (!dataTable) return;\n",
       "\n",
       "          const docLinkHtml = 'Like what you see? Visit the ' +\n",
       "            '<a target=\"_blank\" href=https://colab.research.google.com/notebooks/data_table.ipynb>data table notebook</a>'\n",
       "            + ' to learn more about interactive tables.';\n",
       "          element.innerHTML = '';\n",
       "          dataTable['output_type'] = 'display_data';\n",
       "          await google.colab.output.renderOutput(dataTable, element);\n",
       "          const docLink = document.createElement('div');\n",
       "          docLink.innerHTML = docLinkHtml;\n",
       "          element.appendChild(docLink);\n",
       "        }\n",
       "      </script>\n",
       "    </div>\n",
       "  </div>\n",
       "  "
      ],
      "text/plain": [
       "  age limit  Profession marital status no of kids                 body type  \\\n",
       "0     19-34     Student      Unmarried          0  I am at a healthy weight   \n",
       "1     19-34     Student      Unmarried          0  I am at a healthy weight   \n",
       "3     19-34     Student      Unmarried          0     I am a bit overweight   \n",
       "4     19-34     Student      Unmarried          0  I am at a healthy weight   \n",
       "6   35 - 50  Unemployed      Unmarried          2  I am at a healthy weight   \n",
       "\n",
       "            PMS regular periods painful periods excessive bleeding  \\\n",
       "0  Constipation              No             Yes                 No   \n",
       "1   Mood Swings              No              No                 No   \n",
       "3  Constipation             Yes             Yes                Yes   \n",
       "4   Mood Swings              No              No                Yes   \n",
       "6          None              No             Yes                 No   \n",
       "\n",
       "        period cycle  ... diabetes hypothyroid excessive hair growth acne  \\\n",
       "0       21 - 40 days  ...       No          No                    No   No   \n",
       "1       21 - 40 days  ...       No          No                    No  Yes   \n",
       "3  Less than 21 days  ...       No          No                    No  Yes   \n",
       "4  Less than 21 days  ...       No          No                    No   No   \n",
       "6       21 - 40 days  ...       No          No                    No  Yes   \n",
       "\n",
       "  alcohol habit smoking habit stress regular excercise  \\\n",
       "0            No            No     No               Yes   \n",
       "1            No            No     No                No   \n",
       "3            No            No    Yes                No   \n",
       "4            No            No     No                No   \n",
       "6            No            No     No                No   \n",
       "\n",
       "                                                diet     diagnosis  \n",
       "0                 Consist of packaged/processed food  I Don't know  \n",
       "1                 Consist of packaged/processed food  I Don't know  \n",
       "3                 Consist of packaged/processed food  I Don't know  \n",
       "4                 Consist of packaged/processed food  I Don't know  \n",
       "6  Consist of high fiber and balance between carb...  I Don't know  \n",
       "\n",
       "[5 rows x 24 columns]"
      ]
     },
     "execution_count": 12,
     "metadata": {},
     "output_type": "execute_result"
    }
   ],
   "source": [
    "unlabeled_data.head()"
   ]
  },
  {
   "cell_type": "code",
   "execution_count": 13,
   "metadata": {
    "colab": {
     "base_uri": "https://localhost:8080/"
    },
    "id": "pyHHsa2iPeyS",
    "outputId": "5b9bdb43-c6e2-4ba7-951c-4a67c134dce7"
   },
   "outputs": [
    {
     "name": "stderr",
     "output_type": "stream",
     "text": [
      "<ipython-input-13-7c6e72be8182>:2: SettingWithCopyWarning: \n",
      "A value is trying to be set on a copy of a slice from a DataFrame\n",
      "\n",
      "See the caveats in the documentation: https://pandas.pydata.org/pandas-docs/stable/user_guide/indexing.html#returning-a-view-versus-a-copy\n",
      "  unlabeled_data.drop(\"diagnosis\", axis = 1, inplace = True)\n"
     ]
    },
    {
     "data": {
      "text/plain": [
       "(40, 23)"
      ]
     },
     "execution_count": 13,
     "metadata": {},
     "output_type": "execute_result"
    }
   ],
   "source": [
    "# Droping the diagnosis column to create unlabeled dataset\n",
    "unlabeled_data.drop(\"diagnosis\", axis = 1, inplace = True)\n",
    "unlabeled_data.shape"
   ]
  },
  {
   "cell_type": "markdown",
   "metadata": {
    "id": "8n918fYyRVdj"
   },
   "source": [
    "#**Creating labeled dataset**"
   ]
  },
  {
   "cell_type": "code",
   "execution_count": 14,
   "metadata": {
    "colab": {
     "base_uri": "https://localhost:8080/"
    },
    "id": "rsRwMOVSRBs8",
    "outputId": "1dbcdf8a-874e-4169-8e59-fe0af62042b1"
   },
   "outputs": [
    {
     "name": "stdout",
     "output_type": "stream",
     "text": [
      "Shape of labeled data:  (126, 24)\n"
     ]
    }
   ],
   "source": [
    "#Droping rows having diagnosis value equal to \"I Don't Know\"\n",
    "labeled_data.drop(labeled_data[labeled_data['diagnosis'] == 'I Don\\'t know'].index, inplace = True)\n",
    "print(\"Shape of labeled data: \", labeled_data.shape)"
   ]
  },
  {
   "cell_type": "code",
   "execution_count": 15,
   "metadata": {
    "colab": {
     "base_uri": "https://localhost:8080/",
     "height": 525
    },
    "id": "fjlyjrjdSQOM",
    "outputId": "21d9f08a-5e2f-40cc-d3e9-55b3a01e3e14"
   },
   "outputs": [
    {
     "data": {
      "text/html": [
       "\n",
       "  <div id=\"df-30de683b-1e7b-4dfb-9826-9eb549fb2d49\">\n",
       "    <div class=\"colab-df-container\">\n",
       "      <div>\n",
       "<style scoped>\n",
       "    .dataframe tbody tr th:only-of-type {\n",
       "        vertical-align: middle;\n",
       "    }\n",
       "\n",
       "    .dataframe tbody tr th {\n",
       "        vertical-align: top;\n",
       "    }\n",
       "\n",
       "    .dataframe thead th {\n",
       "        text-align: right;\n",
       "    }\n",
       "</style>\n",
       "<table border=\"1\" class=\"dataframe\">\n",
       "  <thead>\n",
       "    <tr style=\"text-align: right;\">\n",
       "      <th></th>\n",
       "      <th>age limit</th>\n",
       "      <th>Profession</th>\n",
       "      <th>marital status</th>\n",
       "      <th>no of kids</th>\n",
       "      <th>body type</th>\n",
       "      <th>PMS</th>\n",
       "      <th>regular periods</th>\n",
       "      <th>painful periods</th>\n",
       "      <th>excessive bleeding</th>\n",
       "      <th>period cycle</th>\n",
       "      <th>...</th>\n",
       "      <th>diabetes</th>\n",
       "      <th>hypothyroid</th>\n",
       "      <th>excessive hair growth</th>\n",
       "      <th>acne</th>\n",
       "      <th>alcohol habit</th>\n",
       "      <th>smoking habit</th>\n",
       "      <th>stress</th>\n",
       "      <th>regular excercise</th>\n",
       "      <th>diet</th>\n",
       "      <th>diagnosis</th>\n",
       "    </tr>\n",
       "  </thead>\n",
       "  <tbody>\n",
       "    <tr>\n",
       "      <th>2</th>\n",
       "      <td>19-34</td>\n",
       "      <td>Employed</td>\n",
       "      <td>Unmarried</td>\n",
       "      <td>0</td>\n",
       "      <td>I am a bit overweight</td>\n",
       "      <td>Mood Swings</td>\n",
       "      <td>No</td>\n",
       "      <td>Yes</td>\n",
       "      <td>No</td>\n",
       "      <td>21 - 40 days</td>\n",
       "      <td>...</td>\n",
       "      <td>No</td>\n",
       "      <td>No</td>\n",
       "      <td>No</td>\n",
       "      <td>Yes</td>\n",
       "      <td>No</td>\n",
       "      <td>No</td>\n",
       "      <td>No</td>\n",
       "      <td>Yes</td>\n",
       "      <td>Consist of high fiber and balance between carb...</td>\n",
       "      <td>No</td>\n",
       "    </tr>\n",
       "    <tr>\n",
       "      <th>5</th>\n",
       "      <td>19-34</td>\n",
       "      <td>Student</td>\n",
       "      <td>Unmarried</td>\n",
       "      <td>0</td>\n",
       "      <td>I am a bit overweight</td>\n",
       "      <td>None</td>\n",
       "      <td>No</td>\n",
       "      <td>No</td>\n",
       "      <td>No</td>\n",
       "      <td>21 - 40 days</td>\n",
       "      <td>...</td>\n",
       "      <td>No</td>\n",
       "      <td>No</td>\n",
       "      <td>No</td>\n",
       "      <td>Yes</td>\n",
       "      <td>No</td>\n",
       "      <td>No</td>\n",
       "      <td>No</td>\n",
       "      <td>Yes</td>\n",
       "      <td>Consist of high fiber and balance between carb...</td>\n",
       "      <td>No</td>\n",
       "    </tr>\n",
       "    <tr>\n",
       "      <th>7</th>\n",
       "      <td>19-34</td>\n",
       "      <td>Employed</td>\n",
       "      <td>Unmarried</td>\n",
       "      <td>0</td>\n",
       "      <td>I am at a healthy weight</td>\n",
       "      <td>Mood Swings</td>\n",
       "      <td>No</td>\n",
       "      <td>No</td>\n",
       "      <td>No</td>\n",
       "      <td>21 - 40 days</td>\n",
       "      <td>...</td>\n",
       "      <td>No</td>\n",
       "      <td>No</td>\n",
       "      <td>No</td>\n",
       "      <td>No</td>\n",
       "      <td>No</td>\n",
       "      <td>No</td>\n",
       "      <td>Yes</td>\n",
       "      <td>No</td>\n",
       "      <td>Consist of high fiber and balance between carb...</td>\n",
       "      <td>No</td>\n",
       "    </tr>\n",
       "    <tr>\n",
       "      <th>8</th>\n",
       "      <td>19-34</td>\n",
       "      <td>Student</td>\n",
       "      <td>Unmarried</td>\n",
       "      <td>0</td>\n",
       "      <td>I am at a healthy weight</td>\n",
       "      <td>None</td>\n",
       "      <td>Yes</td>\n",
       "      <td>No</td>\n",
       "      <td>No</td>\n",
       "      <td>More than 40 days</td>\n",
       "      <td>...</td>\n",
       "      <td>No</td>\n",
       "      <td>No</td>\n",
       "      <td>Yes</td>\n",
       "      <td>Yes</td>\n",
       "      <td>No</td>\n",
       "      <td>No</td>\n",
       "      <td>Yes</td>\n",
       "      <td>Yes</td>\n",
       "      <td>Consist of packaged/processed food</td>\n",
       "      <td>Yes</td>\n",
       "    </tr>\n",
       "    <tr>\n",
       "      <th>9</th>\n",
       "      <td>19-34</td>\n",
       "      <td>Unemployed</td>\n",
       "      <td>Married</td>\n",
       "      <td>2</td>\n",
       "      <td>I am at a healthy weight</td>\n",
       "      <td>None</td>\n",
       "      <td>No</td>\n",
       "      <td>No</td>\n",
       "      <td>Yes</td>\n",
       "      <td>21 - 40 days</td>\n",
       "      <td>...</td>\n",
       "      <td>No</td>\n",
       "      <td>No</td>\n",
       "      <td>No</td>\n",
       "      <td>No</td>\n",
       "      <td>No</td>\n",
       "      <td>No</td>\n",
       "      <td>No</td>\n",
       "      <td>No</td>\n",
       "      <td>Consist of high fiber and balance between carb...</td>\n",
       "      <td>No</td>\n",
       "    </tr>\n",
       "  </tbody>\n",
       "</table>\n",
       "<p>5 rows × 24 columns</p>\n",
       "</div>\n",
       "      <button class=\"colab-df-convert\" onclick=\"convertToInteractive('df-30de683b-1e7b-4dfb-9826-9eb549fb2d49')\"\n",
       "              title=\"Convert this dataframe to an interactive table.\"\n",
       "              style=\"display:none;\">\n",
       "        \n",
       "  <svg xmlns=\"http://www.w3.org/2000/svg\" height=\"24px\"viewBox=\"0 0 24 24\"\n",
       "       width=\"24px\">\n",
       "    <path d=\"M0 0h24v24H0V0z\" fill=\"none\"/>\n",
       "    <path d=\"M18.56 5.44l.94 2.06.94-2.06 2.06-.94-2.06-.94-.94-2.06-.94 2.06-2.06.94zm-11 1L8.5 8.5l.94-2.06 2.06-.94-2.06-.94L8.5 2.5l-.94 2.06-2.06.94zm10 10l.94 2.06.94-2.06 2.06-.94-2.06-.94-.94-2.06-.94 2.06-2.06.94z\"/><path d=\"M17.41 7.96l-1.37-1.37c-.4-.4-.92-.59-1.43-.59-.52 0-1.04.2-1.43.59L10.3 9.45l-7.72 7.72c-.78.78-.78 2.05 0 2.83L4 21.41c.39.39.9.59 1.41.59.51 0 1.02-.2 1.41-.59l7.78-7.78 2.81-2.81c.8-.78.8-2.07 0-2.86zM5.41 20L4 18.59l7.72-7.72 1.47 1.35L5.41 20z\"/>\n",
       "  </svg>\n",
       "      </button>\n",
       "      \n",
       "  <style>\n",
       "    .colab-df-container {\n",
       "      display:flex;\n",
       "      flex-wrap:wrap;\n",
       "      gap: 12px;\n",
       "    }\n",
       "\n",
       "    .colab-df-convert {\n",
       "      background-color: #E8F0FE;\n",
       "      border: none;\n",
       "      border-radius: 50%;\n",
       "      cursor: pointer;\n",
       "      display: none;\n",
       "      fill: #1967D2;\n",
       "      height: 32px;\n",
       "      padding: 0 0 0 0;\n",
       "      width: 32px;\n",
       "    }\n",
       "\n",
       "    .colab-df-convert:hover {\n",
       "      background-color: #E2EBFA;\n",
       "      box-shadow: 0px 1px 2px rgba(60, 64, 67, 0.3), 0px 1px 3px 1px rgba(60, 64, 67, 0.15);\n",
       "      fill: #174EA6;\n",
       "    }\n",
       "\n",
       "    [theme=dark] .colab-df-convert {\n",
       "      background-color: #3B4455;\n",
       "      fill: #D2E3FC;\n",
       "    }\n",
       "\n",
       "    [theme=dark] .colab-df-convert:hover {\n",
       "      background-color: #434B5C;\n",
       "      box-shadow: 0px 1px 3px 1px rgba(0, 0, 0, 0.15);\n",
       "      filter: drop-shadow(0px 1px 2px rgba(0, 0, 0, 0.3));\n",
       "      fill: #FFFFFF;\n",
       "    }\n",
       "  </style>\n",
       "\n",
       "      <script>\n",
       "        const buttonEl =\n",
       "          document.querySelector('#df-30de683b-1e7b-4dfb-9826-9eb549fb2d49 button.colab-df-convert');\n",
       "        buttonEl.style.display =\n",
       "          google.colab.kernel.accessAllowed ? 'block' : 'none';\n",
       "\n",
       "        async function convertToInteractive(key) {\n",
       "          const element = document.querySelector('#df-30de683b-1e7b-4dfb-9826-9eb549fb2d49');\n",
       "          const dataTable =\n",
       "            await google.colab.kernel.invokeFunction('convertToInteractive',\n",
       "                                                     [key], {});\n",
       "          if (!dataTable) return;\n",
       "\n",
       "          const docLinkHtml = 'Like what you see? Visit the ' +\n",
       "            '<a target=\"_blank\" href=https://colab.research.google.com/notebooks/data_table.ipynb>data table notebook</a>'\n",
       "            + ' to learn more about interactive tables.';\n",
       "          element.innerHTML = '';\n",
       "          dataTable['output_type'] = 'display_data';\n",
       "          await google.colab.output.renderOutput(dataTable, element);\n",
       "          const docLink = document.createElement('div');\n",
       "          docLink.innerHTML = docLinkHtml;\n",
       "          element.appendChild(docLink);\n",
       "        }\n",
       "      </script>\n",
       "    </div>\n",
       "  </div>\n",
       "  "
      ],
      "text/plain": [
       "  age limit  Profession marital status no of kids                 body type  \\\n",
       "2     19-34    Employed      Unmarried          0     I am a bit overweight   \n",
       "5     19-34     Student      Unmarried          0     I am a bit overweight   \n",
       "7     19-34    Employed      Unmarried          0  I am at a healthy weight   \n",
       "8     19-34     Student      Unmarried          0  I am at a healthy weight   \n",
       "9     19-34  Unemployed        Married          2  I am at a healthy weight   \n",
       "\n",
       "           PMS regular periods painful periods excessive bleeding  \\\n",
       "2  Mood Swings              No             Yes                 No   \n",
       "5         None              No              No                 No   \n",
       "7  Mood Swings              No              No                 No   \n",
       "8         None             Yes              No                 No   \n",
       "9         None              No              No                Yes   \n",
       "\n",
       "        period cycle  ... diabetes hypothyroid excessive hair growth acne  \\\n",
       "2       21 - 40 days  ...       No          No                    No  Yes   \n",
       "5       21 - 40 days  ...       No          No                    No  Yes   \n",
       "7       21 - 40 days  ...       No          No                    No   No   \n",
       "8  More than 40 days  ...       No          No                   Yes  Yes   \n",
       "9       21 - 40 days  ...       No          No                    No   No   \n",
       "\n",
       "  alcohol habit smoking habit stress regular excercise  \\\n",
       "2            No            No     No               Yes   \n",
       "5            No            No     No               Yes   \n",
       "7            No            No    Yes                No   \n",
       "8            No            No    Yes               Yes   \n",
       "9            No            No     No                No   \n",
       "\n",
       "                                                diet diagnosis  \n",
       "2  Consist of high fiber and balance between carb...        No  \n",
       "5  Consist of high fiber and balance between carb...        No  \n",
       "7  Consist of high fiber and balance between carb...        No  \n",
       "8                 Consist of packaged/processed food       Yes  \n",
       "9  Consist of high fiber and balance between carb...        No  \n",
       "\n",
       "[5 rows x 24 columns]"
      ]
     },
     "execution_count": 15,
     "metadata": {},
     "output_type": "execute_result"
    }
   ],
   "source": [
    "labeled_data.head()"
   ]
  },
  {
   "cell_type": "markdown",
   "metadata": {
    "id": "CvYdb-2WS5GJ"
   },
   "source": [
    "#**For initial training purpose we will only use labeled data. This step will be called step 1 training.**"
   ]
  },
  {
   "cell_type": "code",
   "execution_count": 16,
   "metadata": {
    "colab": {
     "base_uri": "https://localhost:8080/"
    },
    "id": "k5nsTPg1TznV",
    "outputId": "dd16175e-b185-433b-ad7c-ce306ea02feb"
   },
   "outputs": [
    {
     "name": "stdout",
     "output_type": "stream",
     "text": [
      "Number of categorical variables:  24\n",
      "['age limit', 'Profession', 'marital status', 'no of kids', 'body type', 'PMS', 'regular periods', 'painful periods', 'excessive bleeding', 'period cycle', 'period length', 'period pain scale', 'period clots', 'genetic PCOS', 'diabetes', 'hypothyroid', 'excessive hair growth', 'acne', 'alcohol habit', 'smoking habit', 'stress', 'regular excercise', 'diet', 'diagnosis']\n"
     ]
    }
   ],
   "source": [
    "categorical=[]\n",
    "for col in labeled_data.select_dtypes(include='object').columns:\n",
    "    categorical.append(col)\n",
    "print('Number of categorical variables: ', len(categorical))\n",
    "print(categorical)"
   ]
  },
  {
   "cell_type": "code",
   "execution_count": 17,
   "metadata": {
    "id": "0Y0wPmNyX8mx"
   },
   "outputs": [],
   "source": [
    "from sklearn import preprocessing\n",
    "for i in range(0,len(categorical)):\n",
    "    le=preprocessing.LabelEncoder()\n",
    "    le.fit(labeled_data[categorical[i]])\n",
    "    labeled_data[categorical[i]]=le.transform(labeled_data[categorical[i]])"
   ]
  },
  {
   "cell_type": "code",
   "execution_count": 18,
   "metadata": {
    "colab": {
     "base_uri": "https://localhost:8080/",
     "height": 334
    },
    "id": "gpABxwyWWIN9",
    "outputId": "3153376d-e329-4b7f-e16e-c60e22612328"
   },
   "outputs": [
    {
     "data": {
      "text/html": [
       "\n",
       "  <div id=\"df-085813aa-a5d5-4499-85ed-b80cbc3d61db\">\n",
       "    <div class=\"colab-df-container\">\n",
       "      <div>\n",
       "<style scoped>\n",
       "    .dataframe tbody tr th:only-of-type {\n",
       "        vertical-align: middle;\n",
       "    }\n",
       "\n",
       "    .dataframe tbody tr th {\n",
       "        vertical-align: top;\n",
       "    }\n",
       "\n",
       "    .dataframe thead th {\n",
       "        text-align: right;\n",
       "    }\n",
       "</style>\n",
       "<table border=\"1\" class=\"dataframe\">\n",
       "  <thead>\n",
       "    <tr style=\"text-align: right;\">\n",
       "      <th></th>\n",
       "      <th>age limit</th>\n",
       "      <th>Profession</th>\n",
       "      <th>marital status</th>\n",
       "      <th>no of kids</th>\n",
       "      <th>body type</th>\n",
       "      <th>PMS</th>\n",
       "      <th>regular periods</th>\n",
       "      <th>painful periods</th>\n",
       "      <th>excessive bleeding</th>\n",
       "      <th>period cycle</th>\n",
       "      <th>...</th>\n",
       "      <th>diabetes</th>\n",
       "      <th>hypothyroid</th>\n",
       "      <th>excessive hair growth</th>\n",
       "      <th>acne</th>\n",
       "      <th>alcohol habit</th>\n",
       "      <th>smoking habit</th>\n",
       "      <th>stress</th>\n",
       "      <th>regular excercise</th>\n",
       "      <th>diet</th>\n",
       "      <th>diagnosis</th>\n",
       "    </tr>\n",
       "  </thead>\n",
       "  <tbody>\n",
       "    <tr>\n",
       "      <th>2</th>\n",
       "      <td>0</td>\n",
       "      <td>0</td>\n",
       "      <td>1</td>\n",
       "      <td>0</td>\n",
       "      <td>1</td>\n",
       "      <td>5</td>\n",
       "      <td>0</td>\n",
       "      <td>1</td>\n",
       "      <td>0</td>\n",
       "      <td>0</td>\n",
       "      <td>...</td>\n",
       "      <td>0</td>\n",
       "      <td>0</td>\n",
       "      <td>0</td>\n",
       "      <td>1</td>\n",
       "      <td>0</td>\n",
       "      <td>0</td>\n",
       "      <td>0</td>\n",
       "      <td>1</td>\n",
       "      <td>0</td>\n",
       "      <td>0</td>\n",
       "    </tr>\n",
       "    <tr>\n",
       "      <th>5</th>\n",
       "      <td>0</td>\n",
       "      <td>1</td>\n",
       "      <td>1</td>\n",
       "      <td>0</td>\n",
       "      <td>1</td>\n",
       "      <td>6</td>\n",
       "      <td>0</td>\n",
       "      <td>0</td>\n",
       "      <td>0</td>\n",
       "      <td>0</td>\n",
       "      <td>...</td>\n",
       "      <td>0</td>\n",
       "      <td>0</td>\n",
       "      <td>0</td>\n",
       "      <td>1</td>\n",
       "      <td>0</td>\n",
       "      <td>0</td>\n",
       "      <td>0</td>\n",
       "      <td>1</td>\n",
       "      <td>0</td>\n",
       "      <td>0</td>\n",
       "    </tr>\n",
       "    <tr>\n",
       "      <th>7</th>\n",
       "      <td>0</td>\n",
       "      <td>0</td>\n",
       "      <td>1</td>\n",
       "      <td>0</td>\n",
       "      <td>2</td>\n",
       "      <td>5</td>\n",
       "      <td>0</td>\n",
       "      <td>0</td>\n",
       "      <td>0</td>\n",
       "      <td>0</td>\n",
       "      <td>...</td>\n",
       "      <td>0</td>\n",
       "      <td>0</td>\n",
       "      <td>0</td>\n",
       "      <td>0</td>\n",
       "      <td>0</td>\n",
       "      <td>0</td>\n",
       "      <td>1</td>\n",
       "      <td>0</td>\n",
       "      <td>0</td>\n",
       "      <td>0</td>\n",
       "    </tr>\n",
       "    <tr>\n",
       "      <th>8</th>\n",
       "      <td>0</td>\n",
       "      <td>1</td>\n",
       "      <td>1</td>\n",
       "      <td>0</td>\n",
       "      <td>2</td>\n",
       "      <td>6</td>\n",
       "      <td>1</td>\n",
       "      <td>0</td>\n",
       "      <td>0</td>\n",
       "      <td>2</td>\n",
       "      <td>...</td>\n",
       "      <td>0</td>\n",
       "      <td>0</td>\n",
       "      <td>1</td>\n",
       "      <td>1</td>\n",
       "      <td>0</td>\n",
       "      <td>0</td>\n",
       "      <td>1</td>\n",
       "      <td>1</td>\n",
       "      <td>1</td>\n",
       "      <td>1</td>\n",
       "    </tr>\n",
       "    <tr>\n",
       "      <th>9</th>\n",
       "      <td>0</td>\n",
       "      <td>2</td>\n",
       "      <td>0</td>\n",
       "      <td>2</td>\n",
       "      <td>2</td>\n",
       "      <td>6</td>\n",
       "      <td>0</td>\n",
       "      <td>0</td>\n",
       "      <td>1</td>\n",
       "      <td>0</td>\n",
       "      <td>...</td>\n",
       "      <td>0</td>\n",
       "      <td>0</td>\n",
       "      <td>0</td>\n",
       "      <td>0</td>\n",
       "      <td>0</td>\n",
       "      <td>0</td>\n",
       "      <td>0</td>\n",
       "      <td>0</td>\n",
       "      <td>0</td>\n",
       "      <td>0</td>\n",
       "    </tr>\n",
       "  </tbody>\n",
       "</table>\n",
       "<p>5 rows × 24 columns</p>\n",
       "</div>\n",
       "      <button class=\"colab-df-convert\" onclick=\"convertToInteractive('df-085813aa-a5d5-4499-85ed-b80cbc3d61db')\"\n",
       "              title=\"Convert this dataframe to an interactive table.\"\n",
       "              style=\"display:none;\">\n",
       "        \n",
       "  <svg xmlns=\"http://www.w3.org/2000/svg\" height=\"24px\"viewBox=\"0 0 24 24\"\n",
       "       width=\"24px\">\n",
       "    <path d=\"M0 0h24v24H0V0z\" fill=\"none\"/>\n",
       "    <path d=\"M18.56 5.44l.94 2.06.94-2.06 2.06-.94-2.06-.94-.94-2.06-.94 2.06-2.06.94zm-11 1L8.5 8.5l.94-2.06 2.06-.94-2.06-.94L8.5 2.5l-.94 2.06-2.06.94zm10 10l.94 2.06.94-2.06 2.06-.94-2.06-.94-.94-2.06-.94 2.06-2.06.94z\"/><path d=\"M17.41 7.96l-1.37-1.37c-.4-.4-.92-.59-1.43-.59-.52 0-1.04.2-1.43.59L10.3 9.45l-7.72 7.72c-.78.78-.78 2.05 0 2.83L4 21.41c.39.39.9.59 1.41.59.51 0 1.02-.2 1.41-.59l7.78-7.78 2.81-2.81c.8-.78.8-2.07 0-2.86zM5.41 20L4 18.59l7.72-7.72 1.47 1.35L5.41 20z\"/>\n",
       "  </svg>\n",
       "      </button>\n",
       "      \n",
       "  <style>\n",
       "    .colab-df-container {\n",
       "      display:flex;\n",
       "      flex-wrap:wrap;\n",
       "      gap: 12px;\n",
       "    }\n",
       "\n",
       "    .colab-df-convert {\n",
       "      background-color: #E8F0FE;\n",
       "      border: none;\n",
       "      border-radius: 50%;\n",
       "      cursor: pointer;\n",
       "      display: none;\n",
       "      fill: #1967D2;\n",
       "      height: 32px;\n",
       "      padding: 0 0 0 0;\n",
       "      width: 32px;\n",
       "    }\n",
       "\n",
       "    .colab-df-convert:hover {\n",
       "      background-color: #E2EBFA;\n",
       "      box-shadow: 0px 1px 2px rgba(60, 64, 67, 0.3), 0px 1px 3px 1px rgba(60, 64, 67, 0.15);\n",
       "      fill: #174EA6;\n",
       "    }\n",
       "\n",
       "    [theme=dark] .colab-df-convert {\n",
       "      background-color: #3B4455;\n",
       "      fill: #D2E3FC;\n",
       "    }\n",
       "\n",
       "    [theme=dark] .colab-df-convert:hover {\n",
       "      background-color: #434B5C;\n",
       "      box-shadow: 0px 1px 3px 1px rgba(0, 0, 0, 0.15);\n",
       "      filter: drop-shadow(0px 1px 2px rgba(0, 0, 0, 0.3));\n",
       "      fill: #FFFFFF;\n",
       "    }\n",
       "  </style>\n",
       "\n",
       "      <script>\n",
       "        const buttonEl =\n",
       "          document.querySelector('#df-085813aa-a5d5-4499-85ed-b80cbc3d61db button.colab-df-convert');\n",
       "        buttonEl.style.display =\n",
       "          google.colab.kernel.accessAllowed ? 'block' : 'none';\n",
       "\n",
       "        async function convertToInteractive(key) {\n",
       "          const element = document.querySelector('#df-085813aa-a5d5-4499-85ed-b80cbc3d61db');\n",
       "          const dataTable =\n",
       "            await google.colab.kernel.invokeFunction('convertToInteractive',\n",
       "                                                     [key], {});\n",
       "          if (!dataTable) return;\n",
       "\n",
       "          const docLinkHtml = 'Like what you see? Visit the ' +\n",
       "            '<a target=\"_blank\" href=https://colab.research.google.com/notebooks/data_table.ipynb>data table notebook</a>'\n",
       "            + ' to learn more about interactive tables.';\n",
       "          element.innerHTML = '';\n",
       "          dataTable['output_type'] = 'display_data';\n",
       "          await google.colab.output.renderOutput(dataTable, element);\n",
       "          const docLink = document.createElement('div');\n",
       "          docLink.innerHTML = docLinkHtml;\n",
       "          element.appendChild(docLink);\n",
       "        }\n",
       "      </script>\n",
       "    </div>\n",
       "  </div>\n",
       "  "
      ],
      "text/plain": [
       "   age limit  Profession  marital status  no of kids  body type  PMS  \\\n",
       "2          0           0               1           0          1    5   \n",
       "5          0           1               1           0          1    6   \n",
       "7          0           0               1           0          2    5   \n",
       "8          0           1               1           0          2    6   \n",
       "9          0           2               0           2          2    6   \n",
       "\n",
       "   regular periods  painful periods  excessive bleeding  period cycle  ...  \\\n",
       "2                0                1                   0             0  ...   \n",
       "5                0                0                   0             0  ...   \n",
       "7                0                0                   0             0  ...   \n",
       "8                1                0                   0             2  ...   \n",
       "9                0                0                   1             0  ...   \n",
       "\n",
       "   diabetes  hypothyroid  excessive hair growth  acne  alcohol habit  \\\n",
       "2         0            0                      0     1              0   \n",
       "5         0            0                      0     1              0   \n",
       "7         0            0                      0     0              0   \n",
       "8         0            0                      1     1              0   \n",
       "9         0            0                      0     0              0   \n",
       "\n",
       "   smoking habit  stress  regular excercise  diet  diagnosis  \n",
       "2              0       0                  1     0          0  \n",
       "5              0       0                  1     0          0  \n",
       "7              0       1                  0     0          0  \n",
       "8              0       1                  1     1          1  \n",
       "9              0       0                  0     0          0  \n",
       "\n",
       "[5 rows x 24 columns]"
      ]
     },
     "execution_count": 18,
     "metadata": {},
     "output_type": "execute_result"
    }
   ],
   "source": [
    "labeled_data.head()"
   ]
  },
  {
   "cell_type": "code",
   "execution_count": 19,
   "metadata": {
    "colab": {
     "base_uri": "https://localhost:8080/",
     "height": 561
    },
    "id": "EqCk0oiUYWBo",
    "outputId": "73f9da40-e4b1-4b3b-8ba3-425c942c5c1d"
   },
   "outputs": [
    {
     "data": {
      "text/plain": [
       "Text(0.5, 1.0, 'Heat Map')"
      ]
     },
     "execution_count": 19,
     "metadata": {},
     "output_type": "execute_result"
    },
    {
     "data": {
      "image/png": "[encoded data removed]",
      "text/plain": [
       "<Figure size 1080x504 with 2 Axes>"
      ]
     },
     "metadata": {
      "needs_background": "light"
     },
     "output_type": "display_data"
    }
   ],
   "source": [
    "labeled_data_correlation = labeled_data.corr()\n",
    "fig = plt.figure(figsize=(15,7))\n",
    "sns.heatmap(labeled_data_correlation,annot=True)\n",
    "plt.title('Heat Map')"
   ]
  },
  {
   "cell_type": "code",
   "execution_count": 20,
   "metadata": {
    "colab": {
     "base_uri": "https://localhost:8080/"
    },
    "id": "W1KRJ17hYuPb",
    "outputId": "8e784df0-1bb9-48ef-ea92-d675d2a88d96"
   },
   "outputs": [
    {
     "name": "stdout",
     "output_type": "stream",
     "text": [
      "There are  5 relevant features out of which diagnosis is the target variable\n"
     ]
    },
    {
     "data": {
      "text/plain": [
       "regular periods          0.528616\n",
       "period cycle             0.572458\n",
       "period pain scale        0.351006\n",
       "excessive hair growth    0.314092\n",
       "stress                   0.316228\n",
       "Name: diagnosis, dtype: float64"
      ]
     },
     "execution_count": 20,
     "metadata": {},
     "output_type": "execute_result"
    }
   ],
   "source": [
    "cor_target = abs(labeled_data_correlation['diagnosis'])\n",
    "#Selecting highly correlated features\n",
    "relevant_features = cor_target[cor_target>0.3]\n",
    "print('There are ',(len(relevant_features)-1),'relevant features out of which diagnosis is the target variable')\n",
    "relevant_features[0:(len(relevant_features)-1)]"
   ]
  },
  {
   "cell_type": "markdown",
   "metadata": {
    "id": "vra2w-7BZEwr"
   },
   "source": [
    "#**Creating the data of only relevant columns**"
   ]
  },
  {
   "cell_type": "code",
   "execution_count": 21,
   "metadata": {
    "id": "tY1jc_QLZDYQ"
   },
   "outputs": [],
   "source": [
    "labeled_relevant_data = labeled_data[['regular periods', 'period cycle', 'period pain scale', 'excessive hair growth', 'stress', 'diagnosis']].copy()"
   ]
  },
  {
   "cell_type": "code",
   "execution_count": 22,
   "metadata": {
    "colab": {
     "base_uri": "https://localhost:8080/",
     "height": 206
    },
    "id": "ZJmTQFNnCXqw",
    "outputId": "bbc179db-e09e-4cbf-b0b1-4e939aa05959"
   },
   "outputs": [
    {
     "data": {
      "text/html": [
       "\n",
       "  <div id=\"df-a6c514e2-2a8a-4d50-936e-9993ab16c8a2\">\n",
       "    <div class=\"colab-df-container\">\n",
       "      <div>\n",
       "<style scoped>\n",
       "    .dataframe tbody tr th:only-of-type {\n",
       "        vertical-align: middle;\n",
       "    }\n",
       "\n",
       "    .dataframe tbody tr th {\n",
       "        vertical-align: top;\n",
       "    }\n",
       "\n",
       "    .dataframe thead th {\n",
       "        text-align: right;\n",
       "    }\n",
       "</style>\n",
       "<table border=\"1\" class=\"dataframe\">\n",
       "  <thead>\n",
       "    <tr style=\"text-align: right;\">\n",
       "      <th></th>\n",
       "      <th>regular periods</th>\n",
       "      <th>period cycle</th>\n",
       "      <th>period pain scale</th>\n",
       "      <th>excessive hair growth</th>\n",
       "      <th>stress</th>\n",
       "      <th>diagnosis</th>\n",
       "    </tr>\n",
       "  </thead>\n",
       "  <tbody>\n",
       "    <tr>\n",
       "      <th>2</th>\n",
       "      <td>0</td>\n",
       "      <td>0</td>\n",
       "      <td>1</td>\n",
       "      <td>0</td>\n",
       "      <td>0</td>\n",
       "      <td>0</td>\n",
       "    </tr>\n",
       "    <tr>\n",
       "      <th>5</th>\n",
       "      <td>0</td>\n",
       "      <td>0</td>\n",
       "      <td>2</td>\n",
       "      <td>0</td>\n",
       "      <td>0</td>\n",
       "      <td>0</td>\n",
       "    </tr>\n",
       "    <tr>\n",
       "      <th>7</th>\n",
       "      <td>0</td>\n",
       "      <td>0</td>\n",
       "      <td>1</td>\n",
       "      <td>0</td>\n",
       "      <td>1</td>\n",
       "      <td>0</td>\n",
       "    </tr>\n",
       "    <tr>\n",
       "      <th>8</th>\n",
       "      <td>1</td>\n",
       "      <td>2</td>\n",
       "      <td>2</td>\n",
       "      <td>1</td>\n",
       "      <td>1</td>\n",
       "      <td>1</td>\n",
       "    </tr>\n",
       "    <tr>\n",
       "      <th>9</th>\n",
       "      <td>0</td>\n",
       "      <td>0</td>\n",
       "      <td>0</td>\n",
       "      <td>0</td>\n",
       "      <td>0</td>\n",
       "      <td>0</td>\n",
       "    </tr>\n",
       "  </tbody>\n",
       "</table>\n",
       "</div>\n",
       "      <button class=\"colab-df-convert\" onclick=\"convertToInteractive('df-a6c514e2-2a8a-4d50-936e-9993ab16c8a2')\"\n",
       "              title=\"Convert this dataframe to an interactive table.\"\n",
       "              style=\"display:none;\">\n",
       "        \n",
       "  <svg xmlns=\"http://www.w3.org/2000/svg\" height=\"24px\"viewBox=\"0 0 24 24\"\n",
       "       width=\"24px\">\n",
       "    <path d=\"M0 0h24v24H0V0z\" fill=\"none\"/>\n",
       "    <path d=\"M18.56 5.44l.94 2.06.94-2.06 2.06-.94-2.06-.94-.94-2.06-.94 2.06-2.06.94zm-11 1L8.5 8.5l.94-2.06 2.06-.94-2.06-.94L8.5 2.5l-.94 2.06-2.06.94zm10 10l.94 2.06.94-2.06 2.06-.94-2.06-.94-.94-2.06-.94 2.06-2.06.94z\"/><path d=\"M17.41 7.96l-1.37-1.37c-.4-.4-.92-.59-1.43-.59-.52 0-1.04.2-1.43.59L10.3 9.45l-7.72 7.72c-.78.78-.78 2.05 0 2.83L4 21.41c.39.39.9.59 1.41.59.51 0 1.02-.2 1.41-.59l7.78-7.78 2.81-2.81c.8-.78.8-2.07 0-2.86zM5.41 20L4 18.59l7.72-7.72 1.47 1.35L5.41 20z\"/>\n",
       "  </svg>\n",
       "      </button>\n",
       "      \n",
       "  <style>\n",
       "    .colab-df-container {\n",
       "      display:flex;\n",
       "      flex-wrap:wrap;\n",
       "      gap: 12px;\n",
       "    }\n",
       "\n",
       "    .colab-df-convert {\n",
       "      background-color: #E8F0FE;\n",
       "      border: none;\n",
       "      border-radius: 50%;\n",
       "      cursor: pointer;\n",
       "      display: none;\n",
       "      fill: #1967D2;\n",
       "      height: 32px;\n",
       "      padding: 0 0 0 0;\n",
       "      width: 32px;\n",
       "    }\n",
       "\n",
       "    .colab-df-convert:hover {\n",
       "      background-color: #E2EBFA;\n",
       "      box-shadow: 0px 1px 2px rgba(60, 64, 67, 0.3), 0px 1px 3px 1px rgba(60, 64, 67, 0.15);\n",
       "      fill: #174EA6;\n",
       "    }\n",
       "\n",
       "    [theme=dark] .colab-df-convert {\n",
       "      background-color: #3B4455;\n",
       "      fill: #D2E3FC;\n",
       "    }\n",
       "\n",
       "    [theme=dark] .colab-df-convert:hover {\n",
       "      background-color: #434B5C;\n",
       "      box-shadow: 0px 1px 3px 1px rgba(0, 0, 0, 0.15);\n",
       "      filter: drop-shadow(0px 1px 2px rgba(0, 0, 0, 0.3));\n",
       "      fill: #FFFFFF;\n",
       "    }\n",
       "  </style>\n",
       "\n",
       "      <script>\n",
       "        const buttonEl =\n",
       "          document.querySelector('#df-a6c514e2-2a8a-4d50-936e-9993ab16c8a2 button.colab-df-convert');\n",
       "        buttonEl.style.display =\n",
       "          google.colab.kernel.accessAllowed ? 'block' : 'none';\n",
       "\n",
       "        async function convertToInteractive(key) {\n",
       "          const element = document.querySelector('#df-a6c514e2-2a8a-4d50-936e-9993ab16c8a2');\n",
       "          const dataTable =\n",
       "            await google.colab.kernel.invokeFunction('convertToInteractive',\n",
       "                                                     [key], {});\n",
       "          if (!dataTable) return;\n",
       "\n",
       "          const docLinkHtml = 'Like what you see? Visit the ' +\n",
       "            '<a target=\"_blank\" href=https://colab.research.google.com/notebooks/data_table.ipynb>data table notebook</a>'\n",
       "            + ' to learn more about interactive tables.';\n",
       "          element.innerHTML = '';\n",
       "          dataTable['output_type'] = 'display_data';\n",
       "          await google.colab.output.renderOutput(dataTable, element);\n",
       "          const docLink = document.createElement('div');\n",
       "          docLink.innerHTML = docLinkHtml;\n",
       "          element.appendChild(docLink);\n",
       "        }\n",
       "      </script>\n",
       "    </div>\n",
       "  </div>\n",
       "  "
      ],
      "text/plain": [
       "   regular periods  period cycle  period pain scale  excessive hair growth  \\\n",
       "2                0             0                  1                      0   \n",
       "5                0             0                  2                      0   \n",
       "7                0             0                  1                      0   \n",
       "8                1             2                  2                      1   \n",
       "9                0             0                  0                      0   \n",
       "\n",
       "   stress  diagnosis  \n",
       "2       0          0  \n",
       "5       0          0  \n",
       "7       1          0  \n",
       "8       1          1  \n",
       "9       0          0  "
      ]
     },
     "execution_count": 22,
     "metadata": {},
     "output_type": "execute_result"
    }
   ],
   "source": [
    "labeled_relevant_data.head()"
   ]
  },
  {
   "cell_type": "code",
   "execution_count": 23,
   "metadata": {
    "colab": {
     "base_uri": "https://localhost:8080/",
     "height": 898
    },
    "id": "izDodpDmTqCq",
    "outputId": "f3b45aaf-aac5-43b4-e21c-fd38db5f543a"
   },
   "outputs": [
    {
     "data": {
      "image/png": "[encoded data removed]",
      "text/plain": [
       "<Figure size 1224x1080 with 6 Axes>"
      ]
     },
     "metadata": {
      "needs_background": "light"
     },
     "output_type": "display_data"
    }
   ],
   "source": [
    "col = labeled_relevant_data.columns\n",
    "plt.figure(figsize = (17, 15))\n",
    "plotnumber = 1\n",
    "for i in range (0,len(col)):\n",
    "    plt.subplot(2,3, plotnumber)\n",
    "    sns.countplot(x = labeled_relevant_data[col[i]])\n",
    "    str='Distribution of '+col[i]\n",
    "    plt.title(str, fontsize = 20)\n",
    "    plt.xlabel(col[i])\n",
    "    plt.ylabel('Count')\n",
    "    plotnumber+=1\n",
    "plt.show()"
   ]
  },
  {
   "cell_type": "code",
   "execution_count": 24,
   "metadata": {
    "colab": {
     "base_uri": "https://localhost:8080/",
     "height": 461
    },
    "id": "upIXmuG4Dry2",
    "outputId": "ee96b14d-1272-483b-defe-bbf02331c2de"
   },
   "outputs": [
    {
     "data": {
      "text/plain": [
       "Text(0.5, 1.0, 'Relevant Features Heat Map')"
      ]
     },
     "execution_count": 24,
     "metadata": {},
     "output_type": "execute_result"
    },
    {
     "data": {
      "image/png": "[encoded data removed]",
      "text/plain": [
       "<Figure size 1080x504 with 2 Axes>"
      ]
     },
     "metadata": {
      "needs_background": "light"
     },
     "output_type": "display_data"
    }
   ],
   "source": [
    "labeled_relevant_data_correlation = labeled_relevant_data.corr()\n",
    "fig = plt.figure(figsize=(15,7))\n",
    "sns.heatmap(labeled_relevant_data_correlation,annot=True)\n",
    "plt.title('Relevant Features Heat Map')"
   ]
  },
  {
   "cell_type": "code",
   "execution_count": 25,
   "metadata": {
    "id": "08l9fw7gg_o0"
   },
   "outputs": [],
   "source": [
    "labeled_relevant_data = labeled_relevant_data.sample(frac = 1, random_state = 42)"
   ]
  },
  {
   "cell_type": "code",
   "execution_count": 26,
   "metadata": {
    "colab": {
     "base_uri": "https://localhost:8080/",
     "height": 206
    },
    "id": "bvx0XZF0hKXI",
    "outputId": "970f170c-8adc-4241-bca7-49bbba95476e"
   },
   "outputs": [
    {
     "data": {
      "text/html": [
       "\n",
       "  <div id=\"df-9102dd79-8854-4de4-9080-0879a49a6276\">\n",
       "    <div class=\"colab-df-container\">\n",
       "      <div>\n",
       "<style scoped>\n",
       "    .dataframe tbody tr th:only-of-type {\n",
       "        vertical-align: middle;\n",
       "    }\n",
       "\n",
       "    .dataframe tbody tr th {\n",
       "        vertical-align: top;\n",
       "    }\n",
       "\n",
       "    .dataframe thead th {\n",
       "        text-align: right;\n",
       "    }\n",
       "</style>\n",
       "<table border=\"1\" class=\"dataframe\">\n",
       "  <thead>\n",
       "    <tr style=\"text-align: right;\">\n",
       "      <th></th>\n",
       "      <th>regular periods</th>\n",
       "      <th>period cycle</th>\n",
       "      <th>period pain scale</th>\n",
       "      <th>excessive hair growth</th>\n",
       "      <th>stress</th>\n",
       "      <th>diagnosis</th>\n",
       "    </tr>\n",
       "  </thead>\n",
       "  <tbody>\n",
       "    <tr>\n",
       "      <th>106</th>\n",
       "      <td>1</td>\n",
       "      <td>2</td>\n",
       "      <td>3</td>\n",
       "      <td>0</td>\n",
       "      <td>1</td>\n",
       "      <td>1</td>\n",
       "    </tr>\n",
       "    <tr>\n",
       "      <th>30</th>\n",
       "      <td>0</td>\n",
       "      <td>0</td>\n",
       "      <td>1</td>\n",
       "      <td>0</td>\n",
       "      <td>1</td>\n",
       "      <td>0</td>\n",
       "    </tr>\n",
       "    <tr>\n",
       "      <th>155</th>\n",
       "      <td>0</td>\n",
       "      <td>0</td>\n",
       "      <td>1</td>\n",
       "      <td>0</td>\n",
       "      <td>0</td>\n",
       "      <td>0</td>\n",
       "    </tr>\n",
       "    <tr>\n",
       "      <th>98</th>\n",
       "      <td>1</td>\n",
       "      <td>2</td>\n",
       "      <td>1</td>\n",
       "      <td>0</td>\n",
       "      <td>1</td>\n",
       "      <td>1</td>\n",
       "    </tr>\n",
       "    <tr>\n",
       "      <th>129</th>\n",
       "      <td>1</td>\n",
       "      <td>2</td>\n",
       "      <td>1</td>\n",
       "      <td>0</td>\n",
       "      <td>0</td>\n",
       "      <td>1</td>\n",
       "    </tr>\n",
       "  </tbody>\n",
       "</table>\n",
       "</div>\n",
       "      <button class=\"colab-df-convert\" onclick=\"convertToInteractive('df-9102dd79-8854-4de4-9080-0879a49a6276')\"\n",
       "              title=\"Convert this dataframe to an interactive table.\"\n",
       "              style=\"display:none;\">\n",
       "        \n",
       "  <svg xmlns=\"http://www.w3.org/2000/svg\" height=\"24px\"viewBox=\"0 0 24 24\"\n",
       "       width=\"24px\">\n",
       "    <path d=\"M0 0h24v24H0V0z\" fill=\"none\"/>\n",
       "    <path d=\"M18.56 5.44l.94 2.06.94-2.06 2.06-.94-2.06-.94-.94-2.06-.94 2.06-2.06.94zm-11 1L8.5 8.5l.94-2.06 2.06-.94-2.06-.94L8.5 2.5l-.94 2.06-2.06.94zm10 10l.94 2.06.94-2.06 2.06-.94-2.06-.94-.94-2.06-.94 2.06-2.06.94z\"/><path d=\"M17.41 7.96l-1.37-1.37c-.4-.4-.92-.59-1.43-.59-.52 0-1.04.2-1.43.59L10.3 9.45l-7.72 7.72c-.78.78-.78 2.05 0 2.83L4 21.41c.39.39.9.59 1.41.59.51 0 1.02-.2 1.41-.59l7.78-7.78 2.81-2.81c.8-.78.8-2.07 0-2.86zM5.41 20L4 18.59l7.72-7.72 1.47 1.35L5.41 20z\"/>\n",
       "  </svg>\n",
       "      </button>\n",
       "      \n",
       "  <style>\n",
       "    .colab-df-container {\n",
       "      display:flex;\n",
       "      flex-wrap:wrap;\n",
       "      gap: 12px;\n",
       "    }\n",
       "\n",
       "    .colab-df-convert {\n",
       "      background-color: #E8F0FE;\n",
       "      border: none;\n",
       "      border-radius: 50%;\n",
       "      cursor: pointer;\n",
       "      display: none;\n",
       "      fill: #1967D2;\n",
       "      height: 32px;\n",
       "      padding: 0 0 0 0;\n",
       "      width: 32px;\n",
       "    }\n",
       "\n",
       "    .colab-df-convert:hover {\n",
       "      background-color: #E2EBFA;\n",
       "      box-shadow: 0px 1px 2px rgba(60, 64, 67, 0.3), 0px 1px 3px 1px rgba(60, 64, 67, 0.15);\n",
       "      fill: #174EA6;\n",
       "    }\n",
       "\n",
       "    [theme=dark] .colab-df-convert {\n",
       "      background-color: #3B4455;\n",
       "      fill: #D2E3FC;\n",
       "    }\n",
       "\n",
       "    [theme=dark] .colab-df-convert:hover {\n",
       "      background-color: #434B5C;\n",
       "      box-shadow: 0px 1px 3px 1px rgba(0, 0, 0, 0.15);\n",
       "      filter: drop-shadow(0px 1px 2px rgba(0, 0, 0, 0.3));\n",
       "      fill: #FFFFFF;\n",
       "    }\n",
       "  </style>\n",
       "\n",
       "      <script>\n",
       "        const buttonEl =\n",
       "          document.querySelector('#df-9102dd79-8854-4de4-9080-0879a49a6276 button.colab-df-convert');\n",
       "        buttonEl.style.display =\n",
       "          google.colab.kernel.accessAllowed ? 'block' : 'none';\n",
       "\n",
       "        async function convertToInteractive(key) {\n",
       "          const element = document.querySelector('#df-9102dd79-8854-4de4-9080-0879a49a6276');\n",
       "          const dataTable =\n",
       "            await google.colab.kernel.invokeFunction('convertToInteractive',\n",
       "                                                     [key], {});\n",
       "          if (!dataTable) return;\n",
       "\n",
       "          const docLinkHtml = 'Like what you see? Visit the ' +\n",
       "            '<a target=\"_blank\" href=https://colab.research.google.com/notebooks/data_table.ipynb>data table notebook</a>'\n",
       "            + ' to learn more about interactive tables.';\n",
       "          element.innerHTML = '';\n",
       "          dataTable['output_type'] = 'display_data';\n",
       "          await google.colab.output.renderOutput(dataTable, element);\n",
       "          const docLink = document.createElement('div');\n",
       "          docLink.innerHTML = docLinkHtml;\n",
       "          element.appendChild(docLink);\n",
       "        }\n",
       "      </script>\n",
       "    </div>\n",
       "  </div>\n",
       "  "
      ],
      "text/plain": [
       "     regular periods  period cycle  period pain scale  excessive hair growth  \\\n",
       "106                1             2                  3                      0   \n",
       "30                 0             0                  1                      0   \n",
       "155                0             0                  1                      0   \n",
       "98                 1             2                  1                      0   \n",
       "129                1             2                  1                      0   \n",
       "\n",
       "     stress  diagnosis  \n",
       "106       1          1  \n",
       "30        1          0  \n",
       "155       0          0  \n",
       "98        1          1  \n",
       "129       0          1  "
      ]
     },
     "execution_count": 26,
     "metadata": {},
     "output_type": "execute_result"
    }
   ],
   "source": [
    "labeled_relevant_data.head()"
   ]
  },
  {
   "cell_type": "code",
   "execution_count": 27,
   "metadata": {
    "id": "D-neDJPtEQM5"
   },
   "outputs": [],
   "source": [
    "Y_relevant = labeled_relevant_data['diagnosis']\n",
    "X_relevant = labeled_relevant_data.drop('diagnosis', axis = 1)"
   ]
  },
  {
   "cell_type": "code",
   "execution_count": 28,
   "metadata": {
    "colab": {
     "base_uri": "https://localhost:8080/"
    },
    "id": "DNI8ZN-yEuCD",
    "outputId": "3fa56308-f0ab-4431-ba34-0cc681b142af"
   },
   "outputs": [
    {
     "name": "stdout",
     "output_type": "stream",
     "text": [
      "X shape:  (126, 5)\n",
      "Y shape:  (126,)\n"
     ]
    }
   ],
   "source": [
    "print(\"X shape: \", X_relevant.shape)\n",
    "print(\"Y shape: \", Y_relevant.shape)"
   ]
  },
  {
   "cell_type": "code",
   "execution_count": 29,
   "metadata": {
    "id": "TiLBEVS3D7_W"
   },
   "outputs": [],
   "source": [
    "X_relevant_train, X_relevant_test, Y_relevant_train, Y_relevant_test = train_test_split(X_relevant, Y_relevant, test_size=0.2, random_state=42)"
   ]
  },
  {
   "cell_type": "code",
   "execution_count": 30,
   "metadata": {
    "colab": {
     "base_uri": "https://localhost:8080/"
    },
    "id": "BqyCE43kFY2j",
    "outputId": "221df0ed-2585-496d-e628-521c49c9b785"
   },
   "outputs": [
    {
     "name": "stdout",
     "output_type": "stream",
     "text": [
      "X_relevant_train shape:  (100, 5)\n",
      "X_relevant_test shape:  (26, 5)\n",
      "Y_relevant_train shape:  (100,)\n",
      "Y_relevant_test:  (26,)\n"
     ]
    }
   ],
   "source": [
    "print(\"X_relevant_train shape: \", X_relevant_train.shape)\n",
    "print(\"X_relevant_test shape: \", X_relevant_test.shape)\n",
    "print(\"Y_relevant_train shape: \", Y_relevant_train.shape)\n",
    "print(\"Y_relevant_test: \", Y_relevant_test.shape)\n"
   ]
  },
  {
   "cell_type": "code",
   "execution_count": 31,
   "metadata": {
    "colab": {
     "base_uri": "https://localhost:8080/"
    },
    "id": "vNT0Coy0F1Pd",
    "outputId": "d89e7cfa-b4af-43ba-c01f-253f18bc0c2d"
   },
   "outputs": [
    {
     "name": "stdout",
     "output_type": "stream",
     "text": [
      "Accuracy is  92.31 %\n"
     ]
    }
   ],
   "source": [
    "LR = LogisticRegression()\n",
    "LR_model = LR.fit(X_relevant_train, Y_relevant_train)\n",
    "Y_pred_LR = LR_model.predict(X_relevant_test)\n",
    "LR_accuracy = accuracy_score(Y_relevant_test, Y_pred_LR)\n",
    "LR_accuracy=np.round(LR_accuracy*100,2)\n",
    "print('Accuracy is ',LR_accuracy,'%')"
   ]
  },
  {
   "cell_type": "code",
   "execution_count": 32,
   "metadata": {
    "colab": {
     "base_uri": "https://localhost:8080/"
    },
    "id": "gTGVm7obG5ge",
    "outputId": "8b980fb9-4395-4755-a495-220e2bd393c6"
   },
   "outputs": [
    {
     "name": "stdout",
     "output_type": "stream",
     "text": [
      "Accuracy is  100.0 %\n"
     ]
    }
   ],
   "source": [
    "GNB = GaussianNB()\n",
    "GNB_model = GNB.fit(X_relevant_train, Y_relevant_train)\n",
    "Y_pred_GNB = GNB_model.predict(X_relevant_test)\n",
    "GNB_accuracy = accuracy_score(Y_relevant_test, Y_pred_GNB)\n",
    "GNB_accuracy=np.round(GNB_accuracy*100,2)\n",
    "print('Accuracy is ',GNB_accuracy,'%')"
   ]
  },
  {
   "cell_type": "code",
   "execution_count": 33,
   "metadata": {
    "colab": {
     "base_uri": "https://localhost:8080/"
    },
    "id": "_f3N1ZdeHSMB",
    "outputId": "c6059e9a-6aba-4de1-869a-02cc791b2454"
   },
   "outputs": [
    {
     "name": "stdout",
     "output_type": "stream",
     "text": [
      "Accuracy is  92.31 %\n"
     ]
    }
   ],
   "source": [
    "RF = RandomForestClassifier()\n",
    "RF_model = RF.fit(X_relevant_train, Y_relevant_train)\n",
    "Y_pred_RF = RF_model.predict(X_relevant_test)\n",
    "RF_accuracy = accuracy_score(Y_relevant_test, Y_pred_RF)\n",
    "RF_accuracy=np.round(RF_accuracy*100,2)\n",
    "print('Accuracy is ',RF_accuracy,'%')"
   ]
  },
  {
   "cell_type": "code",
   "execution_count": 34,
   "metadata": {
    "colab": {
     "base_uri": "https://localhost:8080/"
    },
    "id": "ridf1zocHuVa",
    "outputId": "922b7fe6-57cc-4ae5-9300-a3158ccd7081"
   },
   "outputs": [
    {
     "name": "stdout",
     "output_type": "stream",
     "text": [
      "Accuracy is  96.15 %\n"
     ]
    }
   ],
   "source": [
    "KNN = KNeighborsClassifier()\n",
    "KNN_model = KNN.fit(X_relevant_train, Y_relevant_train)\n",
    "Y_pred_KNN = KNN_model.predict(X_relevant_test)\n",
    "KNN_accuracy = accuracy_score(Y_relevant_test, Y_pred_KNN)\n",
    "KNN_accuracy=np.round(KNN_accuracy*100,2)\n",
    "print('Accuracy is ',KNN_accuracy,'%')"
   ]
  },
  {
   "cell_type": "code",
   "execution_count": 352,
   "metadata": {
    "colab": {
     "base_uri": "https://localhost:8080/"
    },
    "id": "Ep5SnrUsJsuM",
    "outputId": "57de4104-cd97-416a-cf2d-d0b690c77e92"
   },
   "outputs": [
    {
     "name": "stdout",
     "output_type": "stream",
     "text": [
      "Accuracy is  84.62 %\n"
     ]
    }
   ],
   "source": [
    "DTC = DecisionTreeClassifier()\n",
    "DTC_model = DTC.fit(X_relevant_train, Y_relevant_train)\n",
    "Y_pred_DTC = DTC_model.predict(X_relevant_test)\n",
    "DTC_accuracy = accuracy_score(Y_relevant_test, Y_pred_DTC)\n",
    "DTC_accuracy=np.round(DTC_accuracy*100,2)\n",
    "print('Accuracy is ',DTC_accuracy,'%')"
   ]
  },
  {
   "cell_type": "markdown",
   "metadata": {
    "id": "KRIIcsZQMQnZ"
   },
   "source": [
    "#Going ahead with GNB"
   ]
  },
  {
   "cell_type": "code",
   "execution_count": 353,
   "metadata": {
    "colab": {
     "base_uri": "https://localhost:8080/",
     "height": 86
    },
    "id": "_gHVWovALLd8",
    "outputId": "3c32b7fb-3cf0-46a7-dea5-8e93478cca1b"
   },
   "outputs": [
    {
     "name": "stdout",
     "output_type": "stream",
     "text": [
      "Score in Test Data : 0.7692307692307693\n",
      "Right classification : 20\n",
      "Wrong classification : 6\n"
     ]
    },
    {
     "data": {
      "text/plain": [
       "<Figure size 360x360 with 0 Axes>"
      ]
     },
     "metadata": {},
     "output_type": "display_data"
    }
   ],
   "source": [
    "#Model Evaluation of logistic Regression\n",
    "plt.figure(figsize=(5,5))\n",
    "print(f\"Score in Test Data : {GNB_model.score(X_relevant_test,Y_relevant_test)}\")\n",
    "#plt.figure(figsize=(5,5))\n",
    "cm=confusion_matrix(Y_relevant_test, Y_pred_GNB)\n",
    "p_right=cm[0][0]+cm[1][1]\n",
    "p_wrong=cm[0][1]+cm[1][0]\n",
    "\n",
    "print(f\"Right classification : {p_right}\")\n",
    "print(f\"Wrong classification : {p_wrong}\")\n",
    "#plt.figure(figsize=(5,5))\n",
    "# metrics.confusion_matrix(X_test, y_test)  \n",
    "# plt.title('Confusion Matrix')\n",
    "plt.show()"
   ]
  },
  {
   "cell_type": "markdown",
   "metadata": {
    "id": "MrngcjsAKlU8"
   },
   "source": [
    "#Working with unlabeled data"
   ]
  },
  {
   "cell_type": "code",
   "execution_count": 35,
   "metadata": {
    "colab": {
     "base_uri": "https://localhost:8080/"
    },
    "id": "cUiAkBOqKhIg",
    "outputId": "c519de44-4124-4786-bffa-be3d0259e81c"
   },
   "outputs": [
    {
     "name": "stderr",
     "output_type": "stream",
     "text": [
      "<ipython-input-35-9426b81558e5>:5: SettingWithCopyWarning: \n",
      "A value is trying to be set on a copy of a slice from a DataFrame.\n",
      "Try using .loc[row_indexer,col_indexer] = value instead\n",
      "\n",
      "See the caveats in the documentation: https://pandas.pydata.org/pandas-docs/stable/user_guide/indexing.html#returning-a-view-versus-a-copy\n",
      "  unlabeled_data[categorical[i]]=le.transform(unlabeled_data[categorical[i]])\n",
      "<ipython-input-35-9426b81558e5>:5: SettingWithCopyWarning: \n",
      "A value is trying to be set on a copy of a slice from a DataFrame.\n",
      "Try using .loc[row_indexer,col_indexer] = value instead\n",
      "\n",
      "See the caveats in the documentation: https://pandas.pydata.org/pandas-docs/stable/user_guide/indexing.html#returning-a-view-versus-a-copy\n",
      "  unlabeled_data[categorical[i]]=le.transform(unlabeled_data[categorical[i]])\n",
      "<ipython-input-35-9426b81558e5>:5: SettingWithCopyWarning: \n",
      "A value is trying to be set on a copy of a slice from a DataFrame.\n",
      "Try using .loc[row_indexer,col_indexer] = value instead\n",
      "\n",
      "See the caveats in the documentation: https://pandas.pydata.org/pandas-docs/stable/user_guide/indexing.html#returning-a-view-versus-a-copy\n",
      "  unlabeled_data[categorical[i]]=le.transform(unlabeled_data[categorical[i]])\n",
      "<ipython-input-35-9426b81558e5>:5: SettingWithCopyWarning: \n",
      "A value is trying to be set on a copy of a slice from a DataFrame.\n",
      "Try using .loc[row_indexer,col_indexer] = value instead\n",
      "\n",
      "See the caveats in the documentation: https://pandas.pydata.org/pandas-docs/stable/user_guide/indexing.html#returning-a-view-versus-a-copy\n",
      "  unlabeled_data[categorical[i]]=le.transform(unlabeled_data[categorical[i]])\n",
      "<ipython-input-35-9426b81558e5>:5: SettingWithCopyWarning: \n",
      "A value is trying to be set on a copy of a slice from a DataFrame.\n",
      "Try using .loc[row_indexer,col_indexer] = value instead\n",
      "\n",
      "See the caveats in the documentation: https://pandas.pydata.org/pandas-docs/stable/user_guide/indexing.html#returning-a-view-versus-a-copy\n",
      "  unlabeled_data[categorical[i]]=le.transform(unlabeled_data[categorical[i]])\n",
      "<ipython-input-35-9426b81558e5>:5: SettingWithCopyWarning: \n",
      "A value is trying to be set on a copy of a slice from a DataFrame.\n",
      "Try using .loc[row_indexer,col_indexer] = value instead\n",
      "\n",
      "See the caveats in the documentation: https://pandas.pydata.org/pandas-docs/stable/user_guide/indexing.html#returning-a-view-versus-a-copy\n",
      "  unlabeled_data[categorical[i]]=le.transform(unlabeled_data[categorical[i]])\n",
      "<ipython-input-35-9426b81558e5>:5: SettingWithCopyWarning: \n",
      "A value is trying to be set on a copy of a slice from a DataFrame.\n",
      "Try using .loc[row_indexer,col_indexer] = value instead\n",
      "\n",
      "See the caveats in the documentation: https://pandas.pydata.org/pandas-docs/stable/user_guide/indexing.html#returning-a-view-versus-a-copy\n",
      "  unlabeled_data[categorical[i]]=le.transform(unlabeled_data[categorical[i]])\n",
      "<ipython-input-35-9426b81558e5>:5: SettingWithCopyWarning: \n",
      "A value is trying to be set on a copy of a slice from a DataFrame.\n",
      "Try using .loc[row_indexer,col_indexer] = value instead\n",
      "\n",
      "See the caveats in the documentation: https://pandas.pydata.org/pandas-docs/stable/user_guide/indexing.html#returning-a-view-versus-a-copy\n",
      "  unlabeled_data[categorical[i]]=le.transform(unlabeled_data[categorical[i]])\n",
      "<ipython-input-35-9426b81558e5>:5: SettingWithCopyWarning: \n",
      "A value is trying to be set on a copy of a slice from a DataFrame.\n",
      "Try using .loc[row_indexer,col_indexer] = value instead\n",
      "\n",
      "See the caveats in the documentation: https://pandas.pydata.org/pandas-docs/stable/user_guide/indexing.html#returning-a-view-versus-a-copy\n",
      "  unlabeled_data[categorical[i]]=le.transform(unlabeled_data[categorical[i]])\n",
      "<ipython-input-35-9426b81558e5>:5: SettingWithCopyWarning: \n",
      "A value is trying to be set on a copy of a slice from a DataFrame.\n",
      "Try using .loc[row_indexer,col_indexer] = value instead\n",
      "\n",
      "See the caveats in the documentation: https://pandas.pydata.org/pandas-docs/stable/user_guide/indexing.html#returning-a-view-versus-a-copy\n",
      "  unlabeled_data[categorical[i]]=le.transform(unlabeled_data[categorical[i]])\n",
      "<ipython-input-35-9426b81558e5>:5: SettingWithCopyWarning: \n",
      "A value is trying to be set on a copy of a slice from a DataFrame.\n",
      "Try using .loc[row_indexer,col_indexer] = value instead\n",
      "\n",
      "See the caveats in the documentation: https://pandas.pydata.org/pandas-docs/stable/user_guide/indexing.html#returning-a-view-versus-a-copy\n",
      "  unlabeled_data[categorical[i]]=le.transform(unlabeled_data[categorical[i]])\n",
      "<ipython-input-35-9426b81558e5>:5: SettingWithCopyWarning: \n",
      "A value is trying to be set on a copy of a slice from a DataFrame.\n",
      "Try using .loc[row_indexer,col_indexer] = value instead\n",
      "\n",
      "See the caveats in the documentation: https://pandas.pydata.org/pandas-docs/stable/user_guide/indexing.html#returning-a-view-versus-a-copy\n",
      "  unlabeled_data[categorical[i]]=le.transform(unlabeled_data[categorical[i]])\n",
      "<ipython-input-35-9426b81558e5>:5: SettingWithCopyWarning: \n",
      "A value is trying to be set on a copy of a slice from a DataFrame.\n",
      "Try using .loc[row_indexer,col_indexer] = value instead\n",
      "\n",
      "See the caveats in the documentation: https://pandas.pydata.org/pandas-docs/stable/user_guide/indexing.html#returning-a-view-versus-a-copy\n",
      "  unlabeled_data[categorical[i]]=le.transform(unlabeled_data[categorical[i]])\n",
      "<ipython-input-35-9426b81558e5>:5: SettingWithCopyWarning: \n",
      "A value is trying to be set on a copy of a slice from a DataFrame.\n",
      "Try using .loc[row_indexer,col_indexer] = value instead\n",
      "\n",
      "See the caveats in the documentation: https://pandas.pydata.org/pandas-docs/stable/user_guide/indexing.html#returning-a-view-versus-a-copy\n",
      "  unlabeled_data[categorical[i]]=le.transform(unlabeled_data[categorical[i]])\n",
      "<ipython-input-35-9426b81558e5>:5: SettingWithCopyWarning: \n",
      "A value is trying to be set on a copy of a slice from a DataFrame.\n",
      "Try using .loc[row_indexer,col_indexer] = value instead\n",
      "\n",
      "See the caveats in the documentation: https://pandas.pydata.org/pandas-docs/stable/user_guide/indexing.html#returning-a-view-versus-a-copy\n",
      "  unlabeled_data[categorical[i]]=le.transform(unlabeled_data[categorical[i]])\n",
      "<ipython-input-35-9426b81558e5>:5: SettingWithCopyWarning: \n",
      "A value is trying to be set on a copy of a slice from a DataFrame.\n",
      "Try using .loc[row_indexer,col_indexer] = value instead\n",
      "\n",
      "See the caveats in the documentation: https://pandas.pydata.org/pandas-docs/stable/user_guide/indexing.html#returning-a-view-versus-a-copy\n",
      "  unlabeled_data[categorical[i]]=le.transform(unlabeled_data[categorical[i]])\n",
      "<ipython-input-35-9426b81558e5>:5: SettingWithCopyWarning: \n",
      "A value is trying to be set on a copy of a slice from a DataFrame.\n",
      "Try using .loc[row_indexer,col_indexer] = value instead\n",
      "\n",
      "See the caveats in the documentation: https://pandas.pydata.org/pandas-docs/stable/user_guide/indexing.html#returning-a-view-versus-a-copy\n",
      "  unlabeled_data[categorical[i]]=le.transform(unlabeled_data[categorical[i]])\n",
      "<ipython-input-35-9426b81558e5>:5: SettingWithCopyWarning: \n",
      "A value is trying to be set on a copy of a slice from a DataFrame.\n",
      "Try using .loc[row_indexer,col_indexer] = value instead\n",
      "\n",
      "See the caveats in the documentation: https://pandas.pydata.org/pandas-docs/stable/user_guide/indexing.html#returning-a-view-versus-a-copy\n",
      "  unlabeled_data[categorical[i]]=le.transform(unlabeled_data[categorical[i]])\n",
      "<ipython-input-35-9426b81558e5>:5: SettingWithCopyWarning: \n",
      "A value is trying to be set on a copy of a slice from a DataFrame.\n",
      "Try using .loc[row_indexer,col_indexer] = value instead\n",
      "\n",
      "See the caveats in the documentation: https://pandas.pydata.org/pandas-docs/stable/user_guide/indexing.html#returning-a-view-versus-a-copy\n",
      "  unlabeled_data[categorical[i]]=le.transform(unlabeled_data[categorical[i]])\n",
      "<ipython-input-35-9426b81558e5>:5: SettingWithCopyWarning: \n",
      "A value is trying to be set on a copy of a slice from a DataFrame.\n",
      "Try using .loc[row_indexer,col_indexer] = value instead\n",
      "\n",
      "See the caveats in the documentation: https://pandas.pydata.org/pandas-docs/stable/user_guide/indexing.html#returning-a-view-versus-a-copy\n",
      "  unlabeled_data[categorical[i]]=le.transform(unlabeled_data[categorical[i]])\n",
      "<ipython-input-35-9426b81558e5>:5: SettingWithCopyWarning: \n",
      "A value is trying to be set on a copy of a slice from a DataFrame.\n",
      "Try using .loc[row_indexer,col_indexer] = value instead\n",
      "\n",
      "See the caveats in the documentation: https://pandas.pydata.org/pandas-docs/stable/user_guide/indexing.html#returning-a-view-versus-a-copy\n",
      "  unlabeled_data[categorical[i]]=le.transform(unlabeled_data[categorical[i]])\n",
      "<ipython-input-35-9426b81558e5>:5: SettingWithCopyWarning: \n",
      "A value is trying to be set on a copy of a slice from a DataFrame.\n",
      "Try using .loc[row_indexer,col_indexer] = value instead\n",
      "\n",
      "See the caveats in the documentation: https://pandas.pydata.org/pandas-docs/stable/user_guide/indexing.html#returning-a-view-versus-a-copy\n",
      "  unlabeled_data[categorical[i]]=le.transform(unlabeled_data[categorical[i]])\n",
      "<ipython-input-35-9426b81558e5>:5: SettingWithCopyWarning: \n",
      "A value is trying to be set on a copy of a slice from a DataFrame.\n",
      "Try using .loc[row_indexer,col_indexer] = value instead\n",
      "\n",
      "See the caveats in the documentation: https://pandas.pydata.org/pandas-docs/stable/user_guide/indexing.html#returning-a-view-versus-a-copy\n",
      "  unlabeled_data[categorical[i]]=le.transform(unlabeled_data[categorical[i]])\n"
     ]
    }
   ],
   "source": [
    "from sklearn import preprocessing\n",
    "for i in range(0,(len(categorical)-1)):\n",
    "    le=preprocessing.LabelEncoder()\n",
    "    le.fit(unlabeled_data[categorical[i]])\n",
    "    unlabeled_data[categorical[i]]=le.transform(unlabeled_data[categorical[i]])"
   ]
  },
  {
   "cell_type": "code",
   "execution_count": 36,
   "metadata": {
    "colab": {
     "base_uri": "https://localhost:8080/",
     "height": 334
    },
    "id": "JEFuYRiCK-S1",
    "outputId": "bd7de651-9963-497c-f046-68052c35d43e"
   },
   "outputs": [
    {
     "data": {
      "text/html": [
       "\n",
       "  <div id=\"df-9669cef9-323c-4b51-b4b8-e54f0c5e3872\">\n",
       "    <div class=\"colab-df-container\">\n",
       "      <div>\n",
       "<style scoped>\n",
       "    .dataframe tbody tr th:only-of-type {\n",
       "        vertical-align: middle;\n",
       "    }\n",
       "\n",
       "    .dataframe tbody tr th {\n",
       "        vertical-align: top;\n",
       "    }\n",
       "\n",
       "    .dataframe thead th {\n",
       "        text-align: right;\n",
       "    }\n",
       "</style>\n",
       "<table border=\"1\" class=\"dataframe\">\n",
       "  <thead>\n",
       "    <tr style=\"text-align: right;\">\n",
       "      <th></th>\n",
       "      <th>age limit</th>\n",
       "      <th>Profession</th>\n",
       "      <th>marital status</th>\n",
       "      <th>no of kids</th>\n",
       "      <th>body type</th>\n",
       "      <th>PMS</th>\n",
       "      <th>regular periods</th>\n",
       "      <th>painful periods</th>\n",
       "      <th>excessive bleeding</th>\n",
       "      <th>period cycle</th>\n",
       "      <th>...</th>\n",
       "      <th>genetic PCOS</th>\n",
       "      <th>diabetes</th>\n",
       "      <th>hypothyroid</th>\n",
       "      <th>excessive hair growth</th>\n",
       "      <th>acne</th>\n",
       "      <th>alcohol habit</th>\n",
       "      <th>smoking habit</th>\n",
       "      <th>stress</th>\n",
       "      <th>regular excercise</th>\n",
       "      <th>diet</th>\n",
       "    </tr>\n",
       "  </thead>\n",
       "  <tbody>\n",
       "    <tr>\n",
       "      <th>0</th>\n",
       "      <td>0</td>\n",
       "      <td>1</td>\n",
       "      <td>1</td>\n",
       "      <td>0</td>\n",
       "      <td>2</td>\n",
       "      <td>2</td>\n",
       "      <td>0</td>\n",
       "      <td>1</td>\n",
       "      <td>0</td>\n",
       "      <td>0</td>\n",
       "      <td>...</td>\n",
       "      <td>0</td>\n",
       "      <td>0</td>\n",
       "      <td>0</td>\n",
       "      <td>0</td>\n",
       "      <td>0</td>\n",
       "      <td>0</td>\n",
       "      <td>0</td>\n",
       "      <td>0</td>\n",
       "      <td>1</td>\n",
       "      <td>1</td>\n",
       "    </tr>\n",
       "    <tr>\n",
       "      <th>1</th>\n",
       "      <td>0</td>\n",
       "      <td>1</td>\n",
       "      <td>1</td>\n",
       "      <td>0</td>\n",
       "      <td>2</td>\n",
       "      <td>4</td>\n",
       "      <td>0</td>\n",
       "      <td>0</td>\n",
       "      <td>0</td>\n",
       "      <td>0</td>\n",
       "      <td>...</td>\n",
       "      <td>0</td>\n",
       "      <td>0</td>\n",
       "      <td>0</td>\n",
       "      <td>0</td>\n",
       "      <td>1</td>\n",
       "      <td>0</td>\n",
       "      <td>0</td>\n",
       "      <td>0</td>\n",
       "      <td>0</td>\n",
       "      <td>1</td>\n",
       "    </tr>\n",
       "    <tr>\n",
       "      <th>3</th>\n",
       "      <td>0</td>\n",
       "      <td>1</td>\n",
       "      <td>1</td>\n",
       "      <td>0</td>\n",
       "      <td>1</td>\n",
       "      <td>2</td>\n",
       "      <td>1</td>\n",
       "      <td>1</td>\n",
       "      <td>1</td>\n",
       "      <td>1</td>\n",
       "      <td>...</td>\n",
       "      <td>0</td>\n",
       "      <td>0</td>\n",
       "      <td>0</td>\n",
       "      <td>0</td>\n",
       "      <td>1</td>\n",
       "      <td>0</td>\n",
       "      <td>0</td>\n",
       "      <td>1</td>\n",
       "      <td>0</td>\n",
       "      <td>1</td>\n",
       "    </tr>\n",
       "    <tr>\n",
       "      <th>4</th>\n",
       "      <td>0</td>\n",
       "      <td>1</td>\n",
       "      <td>1</td>\n",
       "      <td>0</td>\n",
       "      <td>2</td>\n",
       "      <td>4</td>\n",
       "      <td>0</td>\n",
       "      <td>0</td>\n",
       "      <td>1</td>\n",
       "      <td>1</td>\n",
       "      <td>...</td>\n",
       "      <td>0</td>\n",
       "      <td>0</td>\n",
       "      <td>0</td>\n",
       "      <td>0</td>\n",
       "      <td>0</td>\n",
       "      <td>0</td>\n",
       "      <td>0</td>\n",
       "      <td>0</td>\n",
       "      <td>0</td>\n",
       "      <td>1</td>\n",
       "    </tr>\n",
       "    <tr>\n",
       "      <th>6</th>\n",
       "      <td>1</td>\n",
       "      <td>2</td>\n",
       "      <td>1</td>\n",
       "      <td>2</td>\n",
       "      <td>2</td>\n",
       "      <td>5</td>\n",
       "      <td>0</td>\n",
       "      <td>1</td>\n",
       "      <td>0</td>\n",
       "      <td>0</td>\n",
       "      <td>...</td>\n",
       "      <td>0</td>\n",
       "      <td>0</td>\n",
       "      <td>0</td>\n",
       "      <td>0</td>\n",
       "      <td>1</td>\n",
       "      <td>0</td>\n",
       "      <td>0</td>\n",
       "      <td>0</td>\n",
       "      <td>0</td>\n",
       "      <td>0</td>\n",
       "    </tr>\n",
       "  </tbody>\n",
       "</table>\n",
       "<p>5 rows × 23 columns</p>\n",
       "</div>\n",
       "      <button class=\"colab-df-convert\" onclick=\"convertToInteractive('df-9669cef9-323c-4b51-b4b8-e54f0c5e3872')\"\n",
       "              title=\"Convert this dataframe to an interactive table.\"\n",
       "              style=\"display:none;\">\n",
       "        \n",
       "  <svg xmlns=\"http://www.w3.org/2000/svg\" height=\"24px\"viewBox=\"0 0 24 24\"\n",
       "       width=\"24px\">\n",
       "    <path d=\"M0 0h24v24H0V0z\" fill=\"none\"/>\n",
       "    <path d=\"M18.56 5.44l.94 2.06.94-2.06 2.06-.94-2.06-.94-.94-2.06-.94 2.06-2.06.94zm-11 1L8.5 8.5l.94-2.06 2.06-.94-2.06-.94L8.5 2.5l-.94 2.06-2.06.94zm10 10l.94 2.06.94-2.06 2.06-.94-2.06-.94-.94-2.06-.94 2.06-2.06.94z\"/><path d=\"M17.41 7.96l-1.37-1.37c-.4-.4-.92-.59-1.43-.59-.52 0-1.04.2-1.43.59L10.3 9.45l-7.72 7.72c-.78.78-.78 2.05 0 2.83L4 21.41c.39.39.9.59 1.41.59.51 0 1.02-.2 1.41-.59l7.78-7.78 2.81-2.81c.8-.78.8-2.07 0-2.86zM5.41 20L4 18.59l7.72-7.72 1.47 1.35L5.41 20z\"/>\n",
       "  </svg>\n",
       "      </button>\n",
       "      \n",
       "  <style>\n",
       "    .colab-df-container {\n",
       "      display:flex;\n",
       "      flex-wrap:wrap;\n",
       "      gap: 12px;\n",
       "    }\n",
       "\n",
       "    .colab-df-convert {\n",
       "      background-color: #E8F0FE;\n",
       "      border: none;\n",
       "      border-radius: 50%;\n",
       "      cursor: pointer;\n",
       "      display: none;\n",
       "      fill: #1967D2;\n",
       "      height: 32px;\n",
       "      padding: 0 0 0 0;\n",
       "      width: 32px;\n",
       "    }\n",
       "\n",
       "    .colab-df-convert:hover {\n",
       "      background-color: #E2EBFA;\n",
       "      box-shadow: 0px 1px 2px rgba(60, 64, 67, 0.3), 0px 1px 3px 1px rgba(60, 64, 67, 0.15);\n",
       "      fill: #174EA6;\n",
       "    }\n",
       "\n",
       "    [theme=dark] .colab-df-convert {\n",
       "      background-color: #3B4455;\n",
       "      fill: #D2E3FC;\n",
       "    }\n",
       "\n",
       "    [theme=dark] .colab-df-convert:hover {\n",
       "      background-color: #434B5C;\n",
       "      box-shadow: 0px 1px 3px 1px rgba(0, 0, 0, 0.15);\n",
       "      filter: drop-shadow(0px 1px 2px rgba(0, 0, 0, 0.3));\n",
       "      fill: #FFFFFF;\n",
       "    }\n",
       "  </style>\n",
       "\n",
       "      <script>\n",
       "        const buttonEl =\n",
       "          document.querySelector('#df-9669cef9-323c-4b51-b4b8-e54f0c5e3872 button.colab-df-convert');\n",
       "        buttonEl.style.display =\n",
       "          google.colab.kernel.accessAllowed ? 'block' : 'none';\n",
       "\n",
       "        async function convertToInteractive(key) {\n",
       "          const element = document.querySelector('#df-9669cef9-323c-4b51-b4b8-e54f0c5e3872');\n",
       "          const dataTable =\n",
       "            await google.colab.kernel.invokeFunction('convertToInteractive',\n",
       "                                                     [key], {});\n",
       "          if (!dataTable) return;\n",
       "\n",
       "          const docLinkHtml = 'Like what you see? Visit the ' +\n",
       "            '<a target=\"_blank\" href=https://colab.research.google.com/notebooks/data_table.ipynb>data table notebook</a>'\n",
       "            + ' to learn more about interactive tables.';\n",
       "          element.innerHTML = '';\n",
       "          dataTable['output_type'] = 'display_data';\n",
       "          await google.colab.output.renderOutput(dataTable, element);\n",
       "          const docLink = document.createElement('div');\n",
       "          docLink.innerHTML = docLinkHtml;\n",
       "          element.appendChild(docLink);\n",
       "        }\n",
       "      </script>\n",
       "    </div>\n",
       "  </div>\n",
       "  "
      ],
      "text/plain": [
       "   age limit  Profession  marital status  no of kids  body type  PMS  \\\n",
       "0          0           1               1           0          2    2   \n",
       "1          0           1               1           0          2    4   \n",
       "3          0           1               1           0          1    2   \n",
       "4          0           1               1           0          2    4   \n",
       "6          1           2               1           2          2    5   \n",
       "\n",
       "   regular periods  painful periods  excessive bleeding  period cycle  ...  \\\n",
       "0                0                1                   0             0  ...   \n",
       "1                0                0                   0             0  ...   \n",
       "3                1                1                   1             1  ...   \n",
       "4                0                0                   1             1  ...   \n",
       "6                0                1                   0             0  ...   \n",
       "\n",
       "   genetic PCOS  diabetes  hypothyroid  excessive hair growth  acne  \\\n",
       "0             0         0            0                      0     0   \n",
       "1             0         0            0                      0     1   \n",
       "3             0         0            0                      0     1   \n",
       "4             0         0            0                      0     0   \n",
       "6             0         0            0                      0     1   \n",
       "\n",
       "   alcohol habit  smoking habit  stress  regular excercise  diet  \n",
       "0              0              0       0                  1     1  \n",
       "1              0              0       0                  0     1  \n",
       "3              0              0       1                  0     1  \n",
       "4              0              0       0                  0     1  \n",
       "6              0              0       0                  0     0  \n",
       "\n",
       "[5 rows x 23 columns]"
      ]
     },
     "execution_count": 36,
     "metadata": {},
     "output_type": "execute_result"
    }
   ],
   "source": [
    "unlabeled_data.head()"
   ]
  },
  {
   "cell_type": "code",
   "execution_count": 37,
   "metadata": {
    "id": "C5wSgVYELB0W"
   },
   "outputs": [],
   "source": [
    "unlabeled_relevant_data = unlabeled_data[['regular periods', 'period cycle', 'period pain scale', 'excessive hair growth', 'stress']].copy()"
   ]
  },
  {
   "cell_type": "code",
   "execution_count": 38,
   "metadata": {
    "id": "4V1WXYq5MD3E"
   },
   "outputs": [],
   "source": [
    "predicted_labels_for_unlabeled_data = KNN_model.predict(unlabeled_relevant_data)"
   ]
  },
  {
   "cell_type": "code",
   "execution_count": 39,
   "metadata": {
    "colab": {
     "base_uri": "https://localhost:8080/"
    },
    "id": "zK0bNXwxh2tp",
    "outputId": "86b7daf8-116b-4bf9-8fe1-b2563d53db57"
   },
   "outputs": [
    {
     "data": {
      "text/plain": [
       "array([0, 0, 1, 0, 0, 0, 0, 0, 0, 0, 0, 0, 0, 0, 0, 0, 0, 1, 0, 0, 0, 0,\n",
       "       1, 0, 0, 0, 0, 0, 0, 0, 0, 1, 0, 0, 0, 1, 0, 1, 1, 0])"
      ]
     },
     "execution_count": 39,
     "metadata": {},
     "output_type": "execute_result"
    }
   ],
   "source": [
    "predicted_labels_for_unlabeled_data"
   ]
  },
  {
   "cell_type": "code",
   "execution_count": 40,
   "metadata": {
    "id": "JRNzqn77Mo5y"
   },
   "outputs": [],
   "source": [
    "unlabeled_relevant_data['diagnosis'] = predicted_labels_for_unlabeled_data"
   ]
  },
  {
   "cell_type": "code",
   "execution_count": 41,
   "metadata": {
    "id": "QjZtKwP-NIl6"
   },
   "outputs": [],
   "source": [
    "pseudo_labeled_data = unlabeled_relevant_data "
   ]
  },
  {
   "cell_type": "code",
   "execution_count": 42,
   "metadata": {
    "colab": {
     "base_uri": "https://localhost:8080/"
    },
    "id": "-KO6WSs_NY0h",
    "outputId": "a01b3704-5879-4328-d52d-baed815b1180"
   },
   "outputs": [
    {
     "data": {
      "text/plain": [
       "(40, 6)"
      ]
     },
     "execution_count": 42,
     "metadata": {},
     "output_type": "execute_result"
    }
   ],
   "source": [
    "pseudo_labeled_data.shape"
   ]
  },
  {
   "cell_type": "code",
   "execution_count": 43,
   "metadata": {
    "colab": {
     "base_uri": "https://localhost:8080/",
     "height": 363
    },
    "id": "l-KS11RNQREC",
    "outputId": "c136794a-0353-421b-be57-7d808409d7a3"
   },
   "outputs": [
    {
     "data": {
      "text/html": [
       "\n",
       "  <div id=\"df-2283e1b1-2351-49e5-8e04-10a3891da8f3\">\n",
       "    <div class=\"colab-df-container\">\n",
       "      <div>\n",
       "<style scoped>\n",
       "    .dataframe tbody tr th:only-of-type {\n",
       "        vertical-align: middle;\n",
       "    }\n",
       "\n",
       "    .dataframe tbody tr th {\n",
       "        vertical-align: top;\n",
       "    }\n",
       "\n",
       "    .dataframe thead th {\n",
       "        text-align: right;\n",
       "    }\n",
       "</style>\n",
       "<table border=\"1\" class=\"dataframe\">\n",
       "  <thead>\n",
       "    <tr style=\"text-align: right;\">\n",
       "      <th></th>\n",
       "      <th>regular periods</th>\n",
       "      <th>period cycle</th>\n",
       "      <th>period pain scale</th>\n",
       "      <th>excessive hair growth</th>\n",
       "      <th>stress</th>\n",
       "      <th>diagnosis</th>\n",
       "    </tr>\n",
       "  </thead>\n",
       "  <tbody>\n",
       "    <tr>\n",
       "      <th>0</th>\n",
       "      <td>0</td>\n",
       "      <td>0</td>\n",
       "      <td>3</td>\n",
       "      <td>0</td>\n",
       "      <td>0</td>\n",
       "      <td>0</td>\n",
       "    </tr>\n",
       "    <tr>\n",
       "      <th>1</th>\n",
       "      <td>0</td>\n",
       "      <td>0</td>\n",
       "      <td>0</td>\n",
       "      <td>0</td>\n",
       "      <td>0</td>\n",
       "      <td>0</td>\n",
       "    </tr>\n",
       "    <tr>\n",
       "      <th>3</th>\n",
       "      <td>1</td>\n",
       "      <td>1</td>\n",
       "      <td>3</td>\n",
       "      <td>0</td>\n",
       "      <td>1</td>\n",
       "      <td>1</td>\n",
       "    </tr>\n",
       "    <tr>\n",
       "      <th>4</th>\n",
       "      <td>0</td>\n",
       "      <td>1</td>\n",
       "      <td>1</td>\n",
       "      <td>0</td>\n",
       "      <td>0</td>\n",
       "      <td>0</td>\n",
       "    </tr>\n",
       "    <tr>\n",
       "      <th>6</th>\n",
       "      <td>0</td>\n",
       "      <td>0</td>\n",
       "      <td>1</td>\n",
       "      <td>0</td>\n",
       "      <td>0</td>\n",
       "      <td>0</td>\n",
       "    </tr>\n",
       "    <tr>\n",
       "      <th>11</th>\n",
       "      <td>1</td>\n",
       "      <td>1</td>\n",
       "      <td>1</td>\n",
       "      <td>0</td>\n",
       "      <td>0</td>\n",
       "      <td>0</td>\n",
       "    </tr>\n",
       "    <tr>\n",
       "      <th>21</th>\n",
       "      <td>0</td>\n",
       "      <td>0</td>\n",
       "      <td>3</td>\n",
       "      <td>0</td>\n",
       "      <td>0</td>\n",
       "      <td>0</td>\n",
       "    </tr>\n",
       "    <tr>\n",
       "      <th>24</th>\n",
       "      <td>0</td>\n",
       "      <td>0</td>\n",
       "      <td>3</td>\n",
       "      <td>0</td>\n",
       "      <td>0</td>\n",
       "      <td>0</td>\n",
       "    </tr>\n",
       "    <tr>\n",
       "      <th>25</th>\n",
       "      <td>1</td>\n",
       "      <td>1</td>\n",
       "      <td>0</td>\n",
       "      <td>0</td>\n",
       "      <td>0</td>\n",
       "      <td>0</td>\n",
       "    </tr>\n",
       "    <tr>\n",
       "      <th>26</th>\n",
       "      <td>0</td>\n",
       "      <td>0</td>\n",
       "      <td>2</td>\n",
       "      <td>0</td>\n",
       "      <td>0</td>\n",
       "      <td>0</td>\n",
       "    </tr>\n",
       "  </tbody>\n",
       "</table>\n",
       "</div>\n",
       "      <button class=\"colab-df-convert\" onclick=\"convertToInteractive('df-2283e1b1-2351-49e5-8e04-10a3891da8f3')\"\n",
       "              title=\"Convert this dataframe to an interactive table.\"\n",
       "              style=\"display:none;\">\n",
       "        \n",
       "  <svg xmlns=\"http://www.w3.org/2000/svg\" height=\"24px\"viewBox=\"0 0 24 24\"\n",
       "       width=\"24px\">\n",
       "    <path d=\"M0 0h24v24H0V0z\" fill=\"none\"/>\n",
       "    <path d=\"M18.56 5.44l.94 2.06.94-2.06 2.06-.94-2.06-.94-.94-2.06-.94 2.06-2.06.94zm-11 1L8.5 8.5l.94-2.06 2.06-.94-2.06-.94L8.5 2.5l-.94 2.06-2.06.94zm10 10l.94 2.06.94-2.06 2.06-.94-2.06-.94-.94-2.06-.94 2.06-2.06.94z\"/><path d=\"M17.41 7.96l-1.37-1.37c-.4-.4-.92-.59-1.43-.59-.52 0-1.04.2-1.43.59L10.3 9.45l-7.72 7.72c-.78.78-.78 2.05 0 2.83L4 21.41c.39.39.9.59 1.41.59.51 0 1.02-.2 1.41-.59l7.78-7.78 2.81-2.81c.8-.78.8-2.07 0-2.86zM5.41 20L4 18.59l7.72-7.72 1.47 1.35L5.41 20z\"/>\n",
       "  </svg>\n",
       "      </button>\n",
       "      \n",
       "  <style>\n",
       "    .colab-df-container {\n",
       "      display:flex;\n",
       "      flex-wrap:wrap;\n",
       "      gap: 12px;\n",
       "    }\n",
       "\n",
       "    .colab-df-convert {\n",
       "      background-color: #E8F0FE;\n",
       "      border: none;\n",
       "      border-radius: 50%;\n",
       "      cursor: pointer;\n",
       "      display: none;\n",
       "      fill: #1967D2;\n",
       "      height: 32px;\n",
       "      padding: 0 0 0 0;\n",
       "      width: 32px;\n",
       "    }\n",
       "\n",
       "    .colab-df-convert:hover {\n",
       "      background-color: #E2EBFA;\n",
       "      box-shadow: 0px 1px 2px rgba(60, 64, 67, 0.3), 0px 1px 3px 1px rgba(60, 64, 67, 0.15);\n",
       "      fill: #174EA6;\n",
       "    }\n",
       "\n",
       "    [theme=dark] .colab-df-convert {\n",
       "      background-color: #3B4455;\n",
       "      fill: #D2E3FC;\n",
       "    }\n",
       "\n",
       "    [theme=dark] .colab-df-convert:hover {\n",
       "      background-color: #434B5C;\n",
       "      box-shadow: 0px 1px 3px 1px rgba(0, 0, 0, 0.15);\n",
       "      filter: drop-shadow(0px 1px 2px rgba(0, 0, 0, 0.3));\n",
       "      fill: #FFFFFF;\n",
       "    }\n",
       "  </style>\n",
       "\n",
       "      <script>\n",
       "        const buttonEl =\n",
       "          document.querySelector('#df-2283e1b1-2351-49e5-8e04-10a3891da8f3 button.colab-df-convert');\n",
       "        buttonEl.style.display =\n",
       "          google.colab.kernel.accessAllowed ? 'block' : 'none';\n",
       "\n",
       "        async function convertToInteractive(key) {\n",
       "          const element = document.querySelector('#df-2283e1b1-2351-49e5-8e04-10a3891da8f3');\n",
       "          const dataTable =\n",
       "            await google.colab.kernel.invokeFunction('convertToInteractive',\n",
       "                                                     [key], {});\n",
       "          if (!dataTable) return;\n",
       "\n",
       "          const docLinkHtml = 'Like what you see? Visit the ' +\n",
       "            '<a target=\"_blank\" href=https://colab.research.google.com/notebooks/data_table.ipynb>data table notebook</a>'\n",
       "            + ' to learn more about interactive tables.';\n",
       "          element.innerHTML = '';\n",
       "          dataTable['output_type'] = 'display_data';\n",
       "          await google.colab.output.renderOutput(dataTable, element);\n",
       "          const docLink = document.createElement('div');\n",
       "          docLink.innerHTML = docLinkHtml;\n",
       "          element.appendChild(docLink);\n",
       "        }\n",
       "      </script>\n",
       "    </div>\n",
       "  </div>\n",
       "  "
      ],
      "text/plain": [
       "    regular periods  period cycle  period pain scale  excessive hair growth  \\\n",
       "0                 0             0                  3                      0   \n",
       "1                 0             0                  0                      0   \n",
       "3                 1             1                  3                      0   \n",
       "4                 0             1                  1                      0   \n",
       "6                 0             0                  1                      0   \n",
       "11                1             1                  1                      0   \n",
       "21                0             0                  3                      0   \n",
       "24                0             0                  3                      0   \n",
       "25                1             1                  0                      0   \n",
       "26                0             0                  2                      0   \n",
       "\n",
       "    stress  diagnosis  \n",
       "0        0          0  \n",
       "1        0          0  \n",
       "3        1          1  \n",
       "4        0          0  \n",
       "6        0          0  \n",
       "11       0          0  \n",
       "21       0          0  \n",
       "24       0          0  \n",
       "25       0          0  \n",
       "26       0          0  "
      ]
     },
     "execution_count": 43,
     "metadata": {},
     "output_type": "execute_result"
    }
   ],
   "source": [
    "pseudo_labeled_data.head(10)"
   ]
  },
  {
   "cell_type": "code",
   "execution_count": 44,
   "metadata": {
    "colab": {
     "base_uri": "https://localhost:8080/"
    },
    "id": "pNWVBoFIOkVj",
    "outputId": "81c9b70e-5a6f-4468-cad7-df9710a4ecac"
   },
   "outputs": [
    {
     "data": {
      "text/plain": [
       "(166, 6)"
      ]
     },
     "execution_count": 44,
     "metadata": {},
     "output_type": "execute_result"
    }
   ],
   "source": [
    "merged_data = pd.concat([labeled_relevant_data, pseudo_labeled_data], axis = 0)\n",
    "merged_data.shape"
   ]
  },
  {
   "cell_type": "code",
   "execution_count": 45,
   "metadata": {
    "id": "wFsKpqu9drFz"
   },
   "outputs": [],
   "source": [
    "merged_data = merged_data.sample(frac = 1, random_state = 42)"
   ]
  },
  {
   "cell_type": "code",
   "execution_count": 46,
   "metadata": {
    "colab": {
     "base_uri": "https://localhost:8080/",
     "height": 206
    },
    "id": "Ugq_BmmOO5Vg",
    "outputId": "e17832f8-b962-4505-8b51-e651f556f409"
   },
   "outputs": [
    {
     "data": {
      "text/html": [
       "\n",
       "  <div id=\"df-a53773bd-af27-46be-804b-deec8e5f4cd9\">\n",
       "    <div class=\"colab-df-container\">\n",
       "      <div>\n",
       "<style scoped>\n",
       "    .dataframe tbody tr th:only-of-type {\n",
       "        vertical-align: middle;\n",
       "    }\n",
       "\n",
       "    .dataframe tbody tr th {\n",
       "        vertical-align: top;\n",
       "    }\n",
       "\n",
       "    .dataframe thead th {\n",
       "        text-align: right;\n",
       "    }\n",
       "</style>\n",
       "<table border=\"1\" class=\"dataframe\">\n",
       "  <thead>\n",
       "    <tr style=\"text-align: right;\">\n",
       "      <th></th>\n",
       "      <th>regular periods</th>\n",
       "      <th>period cycle</th>\n",
       "      <th>period pain scale</th>\n",
       "      <th>excessive hair growth</th>\n",
       "      <th>stress</th>\n",
       "      <th>diagnosis</th>\n",
       "    </tr>\n",
       "  </thead>\n",
       "  <tbody>\n",
       "    <tr>\n",
       "      <th>8</th>\n",
       "      <td>1</td>\n",
       "      <td>2</td>\n",
       "      <td>2</td>\n",
       "      <td>1</td>\n",
       "      <td>1</td>\n",
       "      <td>1</td>\n",
       "    </tr>\n",
       "    <tr>\n",
       "      <th>74</th>\n",
       "      <td>0</td>\n",
       "      <td>0</td>\n",
       "      <td>2</td>\n",
       "      <td>1</td>\n",
       "      <td>1</td>\n",
       "      <td>0</td>\n",
       "    </tr>\n",
       "    <tr>\n",
       "      <th>111</th>\n",
       "      <td>0</td>\n",
       "      <td>0</td>\n",
       "      <td>1</td>\n",
       "      <td>0</td>\n",
       "      <td>0</td>\n",
       "      <td>1</td>\n",
       "    </tr>\n",
       "    <tr>\n",
       "      <th>70</th>\n",
       "      <td>0</td>\n",
       "      <td>0</td>\n",
       "      <td>0</td>\n",
       "      <td>0</td>\n",
       "      <td>0</td>\n",
       "      <td>0</td>\n",
       "    </tr>\n",
       "    <tr>\n",
       "      <th>54</th>\n",
       "      <td>1</td>\n",
       "      <td>0</td>\n",
       "      <td>0</td>\n",
       "      <td>0</td>\n",
       "      <td>0</td>\n",
       "      <td>0</td>\n",
       "    </tr>\n",
       "  </tbody>\n",
       "</table>\n",
       "</div>\n",
       "      <button class=\"colab-df-convert\" onclick=\"convertToInteractive('df-a53773bd-af27-46be-804b-deec8e5f4cd9')\"\n",
       "              title=\"Convert this dataframe to an interactive table.\"\n",
       "              style=\"display:none;\">\n",
       "        \n",
       "  <svg xmlns=\"http://www.w3.org/2000/svg\" height=\"24px\"viewBox=\"0 0 24 24\"\n",
       "       width=\"24px\">\n",
       "    <path d=\"M0 0h24v24H0V0z\" fill=\"none\"/>\n",
       "    <path d=\"M18.56 5.44l.94 2.06.94-2.06 2.06-.94-2.06-.94-.94-2.06-.94 2.06-2.06.94zm-11 1L8.5 8.5l.94-2.06 2.06-.94-2.06-.94L8.5 2.5l-.94 2.06-2.06.94zm10 10l.94 2.06.94-2.06 2.06-.94-2.06-.94-.94-2.06-.94 2.06-2.06.94z\"/><path d=\"M17.41 7.96l-1.37-1.37c-.4-.4-.92-.59-1.43-.59-.52 0-1.04.2-1.43.59L10.3 9.45l-7.72 7.72c-.78.78-.78 2.05 0 2.83L4 21.41c.39.39.9.59 1.41.59.51 0 1.02-.2 1.41-.59l7.78-7.78 2.81-2.81c.8-.78.8-2.07 0-2.86zM5.41 20L4 18.59l7.72-7.72 1.47 1.35L5.41 20z\"/>\n",
       "  </svg>\n",
       "      </button>\n",
       "      \n",
       "  <style>\n",
       "    .colab-df-container {\n",
       "      display:flex;\n",
       "      flex-wrap:wrap;\n",
       "      gap: 12px;\n",
       "    }\n",
       "\n",
       "    .colab-df-convert {\n",
       "      background-color: #E8F0FE;\n",
       "      border: none;\n",
       "      border-radius: 50%;\n",
       "      cursor: pointer;\n",
       "      display: none;\n",
       "      fill: #1967D2;\n",
       "      height: 32px;\n",
       "      padding: 0 0 0 0;\n",
       "      width: 32px;\n",
       "    }\n",
       "\n",
       "    .colab-df-convert:hover {\n",
       "      background-color: #E2EBFA;\n",
       "      box-shadow: 0px 1px 2px rgba(60, 64, 67, 0.3), 0px 1px 3px 1px rgba(60, 64, 67, 0.15);\n",
       "      fill: #174EA6;\n",
       "    }\n",
       "\n",
       "    [theme=dark] .colab-df-convert {\n",
       "      background-color: #3B4455;\n",
       "      fill: #D2E3FC;\n",
       "    }\n",
       "\n",
       "    [theme=dark] .colab-df-convert:hover {\n",
       "      background-color: #434B5C;\n",
       "      box-shadow: 0px 1px 3px 1px rgba(0, 0, 0, 0.15);\n",
       "      filter: drop-shadow(0px 1px 2px rgba(0, 0, 0, 0.3));\n",
       "      fill: #FFFFFF;\n",
       "    }\n",
       "  </style>\n",
       "\n",
       "      <script>\n",
       "        const buttonEl =\n",
       "          document.querySelector('#df-a53773bd-af27-46be-804b-deec8e5f4cd9 button.colab-df-convert');\n",
       "        buttonEl.style.display =\n",
       "          google.colab.kernel.accessAllowed ? 'block' : 'none';\n",
       "\n",
       "        async function convertToInteractive(key) {\n",
       "          const element = document.querySelector('#df-a53773bd-af27-46be-804b-deec8e5f4cd9');\n",
       "          const dataTable =\n",
       "            await google.colab.kernel.invokeFunction('convertToInteractive',\n",
       "                                                     [key], {});\n",
       "          if (!dataTable) return;\n",
       "\n",
       "          const docLinkHtml = 'Like what you see? Visit the ' +\n",
       "            '<a target=\"_blank\" href=https://colab.research.google.com/notebooks/data_table.ipynb>data table notebook</a>'\n",
       "            + ' to learn more about interactive tables.';\n",
       "          element.innerHTML = '';\n",
       "          dataTable['output_type'] = 'display_data';\n",
       "          await google.colab.output.renderOutput(dataTable, element);\n",
       "          const docLink = document.createElement('div');\n",
       "          docLink.innerHTML = docLinkHtml;\n",
       "          element.appendChild(docLink);\n",
       "        }\n",
       "      </script>\n",
       "    </div>\n",
       "  </div>\n",
       "  "
      ],
      "text/plain": [
       "     regular periods  period cycle  period pain scale  excessive hair growth  \\\n",
       "8                  1             2                  2                      1   \n",
       "74                 0             0                  2                      1   \n",
       "111                0             0                  1                      0   \n",
       "70                 0             0                  0                      0   \n",
       "54                 1             0                  0                      0   \n",
       "\n",
       "     stress  diagnosis  \n",
       "8         1          1  \n",
       "74        1          0  \n",
       "111       0          1  \n",
       "70        0          0  \n",
       "54        0          0  "
      ]
     },
     "execution_count": 46,
     "metadata": {},
     "output_type": "execute_result"
    }
   ],
   "source": [
    "merged_data.tail()"
   ]
  },
  {
   "cell_type": "code",
   "execution_count": 47,
   "metadata": {
    "id": "Pq_rpYrATPdw"
   },
   "outputs": [],
   "source": [
    "Y_merged = merged_data['diagnosis']\n",
    "X_merged = merged_data.drop('diagnosis', axis = 1) "
   ]
  },
  {
   "cell_type": "code",
   "execution_count": 48,
   "metadata": {
    "colab": {
     "base_uri": "https://localhost:8080/"
    },
    "id": "n-3bxVd6TrF5",
    "outputId": "ce2feabd-1ad0-4c25-951d-411edc7867d0"
   },
   "outputs": [
    {
     "name": "stdout",
     "output_type": "stream",
     "text": [
      "X shape:  (166, 5)\n",
      "Y shape:  (166,)\n"
     ]
    }
   ],
   "source": [
    "print(\"X shape: \", X_merged.shape)\n",
    "print(\"Y shape: \", Y_merged.shape)"
   ]
  },
  {
   "cell_type": "code",
   "execution_count": 49,
   "metadata": {
    "id": "__Ltyqi3T1z_"
   },
   "outputs": [],
   "source": [
    "X_train_merged, X_test_merged, Y_train_merged, Y_test_merged = train_test_split(X_merged, Y_merged, test_size=0.2, random_state=42)"
   ]
  },
  {
   "cell_type": "code",
   "execution_count": 50,
   "metadata": {
    "colab": {
     "base_uri": "https://localhost:8080/"
    },
    "id": "s34-jrjNUZOm",
    "outputId": "70260bd9-be12-40ef-baff-98c68a81fcf8"
   },
   "outputs": [
    {
     "name": "stdout",
     "output_type": "stream",
     "text": [
      "X_train_merged shape:  (132, 5)\n",
      "X_test_merged shape:  (34, 5)\n",
      "Y_train_merged shape:  (132,)\n",
      "Y_test_merged shape:  (34,)\n"
     ]
    }
   ],
   "source": [
    "print(\"X_train_merged shape: \", X_train_merged.shape)\n",
    "print(\"X_test_merged shape: \", X_test_merged.shape)\n",
    "print(\"Y_train_merged shape: \", Y_train_merged.shape)\n",
    "print(\"Y_test_merged shape: \", Y_test_merged.shape)"
   ]
  },
  {
   "cell_type": "code",
   "execution_count": 51,
   "metadata": {
    "colab": {
     "base_uri": "https://localhost:8080/"
    },
    "id": "yclqfGnqYpT0",
    "outputId": "280f20b5-fa1c-43aa-c509-c4de47de6b40"
   },
   "outputs": [
    {
     "name": "stdout",
     "output_type": "stream",
     "text": [
      "Accuracy is  88.24 %\n"
     ]
    }
   ],
   "source": [
    "GNB_retraining = GaussianNB()\n",
    "GNB_retraining_model = GNB_retraining.fit(X_train_merged, Y_train_merged)\n",
    "Y_pred_on_retrained_GNB = GNB_retraining_model.predict(X_test_merged)\n",
    "GNB_retraining_accuracy = accuracy_score(Y_test_merged, Y_pred_on_retrained_GNB)\n",
    "GNB_retraining_accuracy=np.round(GNB_retraining_accuracy*100,2)\n",
    "print('Accuracy is ',GNB_retraining_accuracy,'%')"
   ]
  },
  {
   "cell_type": "code",
   "execution_count": 52,
   "metadata": {
    "colab": {
     "base_uri": "https://localhost:8080/"
    },
    "id": "f7t6xxHrvC0U",
    "outputId": "119f14cd-996c-4f6b-d423-d2d5d2e45e7a"
   },
   "outputs": [
    {
     "name": "stdout",
     "output_type": "stream",
     "text": [
      "Accuracy is  94.12 %\n"
     ]
    }
   ],
   "source": [
    "LR_retraining = LogisticRegression()\n",
    "LR_retraining_model = LR_retraining.fit(X_train_merged, Y_train_merged)\n",
    "Y_pred_on_retrained_LR = LR_retraining_model.predict(X_test_merged)\n",
    "LR_retraining_accuracy = accuracy_score(Y_test_merged, Y_pred_on_retrained_LR)\n",
    "LR_retraining_accuracy=np.round(LR_retraining_accuracy*100,2)\n",
    "print('Accuracy is ',LR_retraining_accuracy,'%')"
   ]
  },
  {
   "cell_type": "code",
   "execution_count": 53,
   "metadata": {
    "colab": {
     "base_uri": "https://localhost:8080/"
    },
    "id": "8IoStpH9vSJF",
    "outputId": "751b4ee1-3cf9-45f6-fccb-d485c030c61a"
   },
   "outputs": [
    {
     "name": "stdout",
     "output_type": "stream",
     "text": [
      "Accuracy is  97.06 %\n"
     ]
    }
   ],
   "source": [
    "KNN_retraining = KNeighborsClassifier()\n",
    "KNN_retraining_model = KNN_retraining.fit(X_train_merged, Y_train_merged)\n",
    "Y_pred_on_retrained_KNN = KNN_retraining_model.predict(X_test_merged)\n",
    "KNN_retraining_accuracy = accuracy_score(Y_test_merged, Y_pred_on_retrained_KNN)\n",
    "KNN_retraining_accuracy=np.round(KNN_retraining_accuracy*100,2)\n",
    "print('Accuracy is ',KNN_retraining_accuracy,'%')"
   ]
  },
  {
   "cell_type": "code",
   "execution_count": 54,
   "metadata": {
    "colab": {
     "base_uri": "https://localhost:8080/"
    },
    "id": "afR0S_5ovmq-",
    "outputId": "e85b7667-1bc6-452f-c80d-237620457511"
   },
   "outputs": [
    {
     "name": "stdout",
     "output_type": "stream",
     "text": [
      "Accuracy is  88.24 %\n"
     ]
    }
   ],
   "source": [
    "RF_retraining = RandomForestClassifier()\n",
    "RF_retraining_model = RF_retraining.fit(X_train_merged, Y_train_merged)\n",
    "Y_pred_on_retrained_RF = RF_retraining_model.predict(X_test_merged)\n",
    "RF_retraining_accuracy = accuracy_score(Y_test_merged, Y_pred_on_retrained_RF)\n",
    "RF_retraining_accuracy=np.round(RF_retraining_accuracy*100,2)\n",
    "print('Accuracy is ',RF_retraining_accuracy,'%')"
   ]
  },
  {
   "cell_type": "code",
   "execution_count": 55,
   "metadata": {
    "colab": {
     "base_uri": "https://localhost:8080/"
    },
    "id": "rR0OAv10vz74",
    "outputId": "1779f71f-9050-4f3b-eaf1-60f66cfc4e48"
   },
   "outputs": [
    {
     "name": "stdout",
     "output_type": "stream",
     "text": [
      "Accuracy is  88.24 %\n"
     ]
    }
   ],
   "source": [
    "DTC_retraining = DecisionTreeClassifier()\n",
    "DTC_retraining_model = DTC_retraining.fit(X_train_merged, Y_train_merged)\n",
    "Y_pred_on_retrained_DTC = DTC_retraining_model.predict(X_test_merged)\n",
    "DTC_retraining_accuracy = accuracy_score(Y_test_merged, Y_pred_on_retrained_DTC)\n",
    "DTC_retraining_accuracy=np.round(DTC_retraining_accuracy*100,2)\n",
    "print('Accuracy is ',DTC_retraining_accuracy,'%')"
   ]
  },
  {
   "cell_type": "code",
   "execution_count": 59,
   "metadata": {
    "id": "Ig_uIffwc_wH"
   },
   "outputs": [],
   "source": [
    "# #Model Evaluation of logistic Regression\n",
    "# plt.figure(figsize=(5,5))\n",
    "# print(f\"Score in Test Data : {GNB_retraining_model.score(X_test_merged,Y_test_merged)}\")\n",
    "# #plt.figure(figsize=(5,5))\n",
    "# cm=confusion_matrix(Y_test_merged, Y_pred_on_retrained_GNB)\n",
    "# p_right=cm[0][0]+cm[1][1]\n",
    "# p_wrong=cm[0][1]+cm[1][0]\n",
    "\n",
    "# print(f\"Right classification : {p_right}\")\n",
    "# print(f\"Wrong classification : {p_wrong}\")\n",
    "# #plt.figure(figsize=(5,5))\n",
    "# # metrics.confusion_matrix(X_test, y_test)  \n",
    "# # plt.title('Confusion Matrix')\n",
    "# plt.show()"
   ]
  },
  {
   "cell_type": "code",
   "execution_count": 56,
   "metadata": {
    "colab": {
     "base_uri": "https://localhost:8080/",
     "height": 86
    },
    "id": "S9507i6q86we",
    "outputId": "c6703864-4565-4c3a-b991-e598bc0ac6cb"
   },
   "outputs": [
    {
     "name": "stdout",
     "output_type": "stream",
     "text": [
      "Score in Test Data : 0.9705882352941176\n",
      "Right classification : 33\n",
      "Wrong classification : 1\n"
     ]
    },
    {
     "data": {
      "text/plain": [
       "<Figure size 360x360 with 0 Axes>"
      ]
     },
     "metadata": {},
     "output_type": "display_data"
    }
   ],
   "source": [
    "#Model Evaluation of logistic Regression\n",
    "plt.figure(figsize=(5,5))\n",
    "print(f\"Score in Test Data : {KNN_retraining_model.score(X_test_merged,Y_test_merged)}\")\n",
    "#plt.figure(figsize=(5,5))\n",
    "cm=confusion_matrix(Y_test_merged, Y_pred_on_retrained_KNN)\n",
    "p_right=cm[0][0]+cm[1][1]\n",
    "p_wrong=cm[0][1]+cm[1][0]\n",
    "\n",
    "print(f\"Right classification : {p_right}\")\n",
    "print(f\"Wrong classification : {p_wrong}\")\n",
    "#plt.figure(figsize=(5,5))\n",
    "# metrics.confusion_matrix(X_test, y_test)  \n",
    "# plt.title('Confusion Matrix')\n",
    "plt.show()"
   ]
  },
  {
   "cell_type": "code",
   "execution_count": 57,
   "metadata": {
    "colab": {
     "base_uri": "https://localhost:8080/"
    },
    "id": "c3nuaYKZ9CxM",
    "outputId": "c9267f54-5441-4e1f-d16c-cbbf149a63fe"
   },
   "outputs": [
    {
     "name": "stdout",
     "output_type": "stream",
     "text": [
      "KNN:                precision    recall  f1-score   support\n",
      "\n",
      "           0       0.97      1.00      0.98        31\n",
      "           1       1.00      0.67      0.80         3\n",
      "\n",
      "    accuracy                           0.97        34\n",
      "   macro avg       0.98      0.83      0.89        34\n",
      "weighted avg       0.97      0.97      0.97        34\n",
      "\n"
     ]
    }
   ],
   "source": [
    "from sklearn.metrics import classification_report\n",
    "print(\"KNN: \", classification_report(Y_test_merged, Y_pred_on_retrained_KNN))"
   ]
  },
  {
   "cell_type": "code",
   "execution_count": 58,
   "metadata": {
    "id": "5ol3lTt4pFWa"
   },
   "outputs": [],
   "source": [
    "# from sklearn.metrics import classification_report\n",
    "# print(\"GNB: \", classification_report(Y_test_merged, Y_pred_on_retrained_GNB))"
   ]
  },
  {
   "cell_type": "code",
   "execution_count": 60,
   "metadata": {
    "id": "N4KVlB9nNL18"
   },
   "outputs": [],
   "source": [
    "import pickle\n",
    "pickle.dump(KNN_retraining_model, open('KNN_retraining_model.pkl', 'wb'))"
   ]
  },
  {
   "cell_type": "code",
   "execution_count": 62,
   "metadata": {
    "id": "cfBY9BT-NZ0d"
   },
   "outputs": [],
   "source": [
    "pikled_model_KNN = pickle.load(open('/content/KNN_retraining_model.pkl','rb'))"
   ]
  },
  {
   "cell_type": "code",
   "execution_count": 63,
   "metadata": {
    "colab": {
     "base_uri": "https://localhost:8080/"
    },
    "id": "ymmPsJY4NjpD",
    "outputId": "1ebba890-e26c-4252-90f5-f1484281e4b6"
   },
   "outputs": [
    {
     "data": {
      "text/plain": [
       "array([0, 0, 0, 0, 0, 0, 0, 0, 0, 0, 0, 0, 0, 0, 0, 0, 0, 0, 0, 0, 0, 0,\n",
       "       0, 0, 0, 0, 1, 0, 1, 0, 0, 0, 0, 0])"
      ]
     },
     "execution_count": 63,
     "metadata": {},
     "output_type": "execute_result"
    }
   ],
   "source": [
    "pikled_model_KNN.predict(X_test_merged)"
   ]
  },
  {
   "cell_type": "code",
   "execution_count": 66,
   "metadata": {
    "colab": {
     "base_uri": "https://localhost:8080/"
    },
    "id": "VaSmGzT6MrSh",
    "outputId": "9506f04b-0335-4f86-ad7b-6d5bcf6929f4"
   },
   "outputs": [
    {
     "name": "stdout",
     "output_type": "stream",
     "text": [
      "Are you experiencing irregular or late periods?:'regular periods': {'No': 0, 'Yes': 1} 1\n",
      "How often do you get your periods?:'period cycle': {'21 - 40 days': 0, 'Less than 21 days': 1, 'More than 40 days': 2} 2\n",
      "How would you like to rate your period pains?:'period pain scale': {'Mild': 0, 'Moderate': 1, 'No period pain': 2, 'Severe': 3} 3\n",
      "Do you experience excessive growth of facial and body hair?:'excessive hair growth': {'No': 0, 'Yes': 1} 1\n",
      " Are you under any stress?:'stress': {'No': 0, 'Yes': 1} 0\n",
      "[1, 2, 3, 1, 0]\n"
     ]
    }
   ],
   "source": [
    "list1=[]\n",
    "rp=int(input(\"Are you experiencing irregular or late periods?:'regular periods': {'No': 0, 'Yes': 1} \"))\n",
    "list1.append(rp)\n",
    "pc=int(input(\"How often do you get your periods?:'period cycle': {'21 - 40 days': 0, 'Less than 21 days': 1, 'More than 40 days': 2} \"))\n",
    "list1.append(pc)\n",
    "pps=int(input(\"How would you like to rate your period pains?:'period pain scale': {'Mild': 0, 'Moderate': 1, 'No period pain': 2, 'Severe': 3} \"))\n",
    "list1.append(pps)\n",
    "ehg=int(input(\"Do you experience excessive growth of facial and body hair?:'excessive hair growth': {'No': 0, 'Yes': 1} \"))\n",
    "list1.append(ehg)\n",
    "s=int(input(\" Are you under any stress?:'stress': {'No': 0, 'Yes': 1} \"))\n",
    "list1.append(s)\n",
    "print(list1)"
   ]
  },
  {
   "cell_type": "code",
   "execution_count": 67,
   "metadata": {
    "colab": {
     "base_uri": "https://localhost:8080/"
    },
    "id": "p7qwXERaNv3Q",
    "outputId": "20710655-8e71-4232-8c04-ee9596f66419"
   },
   "outputs": [
    {
     "name": "stderr",
     "output_type": "stream",
     "text": [
      "/usr/local/lib/python3.9/dist-packages/sklearn/base.py:439: UserWarning: X does not have valid feature names, but KNeighborsClassifier was fitted with feature names\n",
      "  warnings.warn(\n"
     ]
    },
    {
     "data": {
      "text/plain": [
       "array([1])"
      ]
     },
     "execution_count": 67,
     "metadata": {},
     "output_type": "execute_result"
    }
   ],
   "source": [
    "feature1=np.array([list1])\n",
    "#print(feature1)\n",
    "pikled_model_KNN.predict(feature1)"
   ]
  }
 ],
 "metadata": {
  "colab": {
   "provenance": []
  },
  "kernelspec": {
   "display_name": "Python 3",
   "language": "python",
   "name": "python3"
  },
  "language_info": {
   "codemirror_mode": {
    "name": "ipython",
    "version": 3
   },
   "file_extension": ".py",
   "mimetype": "text/x-python",
   "name": "python",
   "nbconvert_exporter": "python",
   "pygments_lexer": "ipython3",
   "version": "3.7.6"
  }
 },
 "nbformat": 4,
 "nbformat_minor": 1
}
